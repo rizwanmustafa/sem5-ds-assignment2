{
 "cells": [
  {
   "cell_type": "code",
   "execution_count": 15,
   "id": "eb6fbd42-b0a6-4cdd-9ed4-41ea3746b13a",
   "metadata": {},
   "outputs": [],
   "source": [
    "import pandas as pd\n",
    "import numpy as np"
   ]
  },
  {
   "cell_type": "code",
   "execution_count": 2,
   "id": "8e7d84fc-9bb3-4338-a5d1-98bb8cafb91d",
   "metadata": {},
   "outputs": [],
   "source": [
    "raw_df = pd.read_csv('data/pakistan-media-dataset-synthetic.csv')"
   ]
  },
  {
   "cell_type": "code",
   "execution_count": 3,
   "id": "d639ddda-e74f-43a6-9f01-ccf3c698d1c7",
   "metadata": {},
   "outputs": [],
   "source": [
    "df = raw_df.copy()"
   ]
  },
  {
   "cell_type": "markdown",
   "id": "d767d139-45a8-4e11-a5d4-c33ace1f22f4",
   "metadata": {},
   "source": [
    "# Clean Data"
   ]
  },
  {
   "cell_type": "code",
   "execution_count": 4,
   "id": "1c251129-60b7-4355-b1d5-0905b8f80661",
   "metadata": {},
   "outputs": [
    {
     "data": {
      "text/html": [
       "<div>\n",
       "<style scoped>\n",
       "    .dataframe tbody tr th:only-of-type {\n",
       "        vertical-align: middle;\n",
       "    }\n",
       "\n",
       "    .dataframe tbody tr th {\n",
       "        vertical-align: top;\n",
       "    }\n",
       "\n",
       "    .dataframe thead th {\n",
       "        text-align: right;\n",
       "    }\n",
       "</style>\n",
       "<table border=\"1\" class=\"dataframe\">\n",
       "  <thead>\n",
       "    <tr style=\"text-align: right;\">\n",
       "      <th></th>\n",
       "      <th>Region</th>\n",
       "      <th>City</th>\n",
       "    </tr>\n",
       "  </thead>\n",
       "  <tbody>\n",
       "    <tr>\n",
       "      <th>0</th>\n",
       "      <td>Islamabad</td>\n",
       "      <td>Multan</td>\n",
       "    </tr>\n",
       "    <tr>\n",
       "      <th>1</th>\n",
       "      <td>Sindh</td>\n",
       "      <td>Quetta</td>\n",
       "    </tr>\n",
       "    <tr>\n",
       "      <th>2</th>\n",
       "      <td>Sindh</td>\n",
       "      <td>Rawalpindi</td>\n",
       "    </tr>\n",
       "    <tr>\n",
       "      <th>3</th>\n",
       "      <td>Islamabad</td>\n",
       "      <td>Multan</td>\n",
       "    </tr>\n",
       "    <tr>\n",
       "      <th>4</th>\n",
       "      <td>Sindh</td>\n",
       "      <td>Karachi</td>\n",
       "    </tr>\n",
       "    <tr>\n",
       "      <th>...</th>\n",
       "      <td>...</td>\n",
       "      <td>...</td>\n",
       "    </tr>\n",
       "    <tr>\n",
       "      <th>14995</th>\n",
       "      <td>KPK</td>\n",
       "      <td>Karachi</td>\n",
       "    </tr>\n",
       "    <tr>\n",
       "      <th>14996</th>\n",
       "      <td>Punjab</td>\n",
       "      <td>Quetta</td>\n",
       "    </tr>\n",
       "    <tr>\n",
       "      <th>14997</th>\n",
       "      <td>Islamabad</td>\n",
       "      <td>Peshawar</td>\n",
       "    </tr>\n",
       "    <tr>\n",
       "      <th>14998</th>\n",
       "      <td>Sindh</td>\n",
       "      <td>Multan</td>\n",
       "    </tr>\n",
       "    <tr>\n",
       "      <th>14999</th>\n",
       "      <td>KPK</td>\n",
       "      <td>Karachi</td>\n",
       "    </tr>\n",
       "  </tbody>\n",
       "</table>\n",
       "<p>15000 rows × 2 columns</p>\n",
       "</div>"
      ],
      "text/plain": [
       "          Region        City\n",
       "0      Islamabad      Multan\n",
       "1          Sindh      Quetta\n",
       "2          Sindh  Rawalpindi\n",
       "3      Islamabad      Multan\n",
       "4          Sindh     Karachi\n",
       "...          ...         ...\n",
       "14995        KPK     Karachi\n",
       "14996     Punjab      Quetta\n",
       "14997  Islamabad    Peshawar\n",
       "14998      Sindh      Multan\n",
       "14999        KPK     Karachi\n",
       "\n",
       "[15000 rows x 2 columns]"
      ]
     },
     "execution_count": 4,
     "metadata": {},
     "output_type": "execute_result"
    }
   ],
   "source": [
    "df[[\"Region\", \"City\"]]"
   ]
  },
  {
   "cell_type": "markdown",
   "id": "e652746e-3fbb-4575-8bbf-3682cdc2a851",
   "metadata": {},
   "source": [
    "## Region-City Cleaning\n",
    "We can clearly see wrong regions associated with cities. Let's fix that"
   ]
  },
  {
   "cell_type": "code",
   "execution_count": 5,
   "id": "e4d7b288-5365-4f38-9c5c-ac4bd33598b1",
   "metadata": {},
   "outputs": [
    {
     "data": {
      "text/plain": [
       "array(['Multan', 'Quetta', 'Rawalpindi', 'Karachi', 'Peshawar',\n",
       "       'Islamabad', 'Lahore', 'Hyderabad'], dtype=object)"
      ]
     },
     "execution_count": 5,
     "metadata": {},
     "output_type": "execute_result"
    }
   ],
   "source": [
    "# Let's print the unique cities\n",
    "df[\"City\"].unique()"
   ]
  },
  {
   "cell_type": "code",
   "execution_count": 6,
   "id": "de9d1625-e9c6-4036-8729-4a301e9e2694",
   "metadata": {},
   "outputs": [
    {
     "data": {
      "text/plain": [
       "array(['Islamabad', 'Sindh', 'Balochistan', 'KPK', 'Punjab', 'AJK'],\n",
       "      dtype=object)"
      ]
     },
     "execution_count": 6,
     "metadata": {},
     "output_type": "execute_result"
    }
   ],
   "source": [
    "# Let's print the unique regions\n",
    "df[\"Region\"].unique()"
   ]
  },
  {
   "cell_type": "code",
   "execution_count": 7,
   "id": "a752f0b5-7680-4093-b2d3-82c6dbfd535d",
   "metadata": {},
   "outputs": [],
   "source": [
    "def get_region(city):\n",
    "    if city in [\"Multan\", \"Rawalpindi\", \"Lahore\"]: return \"Punjab\"\n",
    "    elif city in [\"Quetta\"]: return \"Balochistan\"\n",
    "    elif city in [\"Karachi\", \"Hyderabad\"]: return \"Sindh\"\n",
    "    elif city in [\"Peshawar\"]: return \"KPK\"\n",
    "    elif city in [\"Islamabad\"]: return \"Islamabad\"\n",
    "    else: return pd.NA\n",
    "\n",
    "df[\"Region\"] = df[\"City\"].apply(get_region)\n"
   ]
  },
  {
   "cell_type": "code",
   "execution_count": 8,
   "id": "1e5ea8d8-dbcd-4e65-9320-afcad8874514",
   "metadata": {},
   "outputs": [
    {
     "data": {
      "text/html": [
       "<div>\n",
       "<style scoped>\n",
       "    .dataframe tbody tr th:only-of-type {\n",
       "        vertical-align: middle;\n",
       "    }\n",
       "\n",
       "    .dataframe tbody tr th {\n",
       "        vertical-align: top;\n",
       "    }\n",
       "\n",
       "    .dataframe thead th {\n",
       "        text-align: right;\n",
       "    }\n",
       "</style>\n",
       "<table border=\"1\" class=\"dataframe\">\n",
       "  <thead>\n",
       "    <tr style=\"text-align: right;\">\n",
       "      <th></th>\n",
       "      <th>Region</th>\n",
       "      <th>City</th>\n",
       "    </tr>\n",
       "  </thead>\n",
       "  <tbody>\n",
       "    <tr>\n",
       "      <th>0</th>\n",
       "      <td>Punjab</td>\n",
       "      <td>Multan</td>\n",
       "    </tr>\n",
       "    <tr>\n",
       "      <th>1</th>\n",
       "      <td>Balochistan</td>\n",
       "      <td>Quetta</td>\n",
       "    </tr>\n",
       "    <tr>\n",
       "      <th>2</th>\n",
       "      <td>Punjab</td>\n",
       "      <td>Rawalpindi</td>\n",
       "    </tr>\n",
       "    <tr>\n",
       "      <th>3</th>\n",
       "      <td>Punjab</td>\n",
       "      <td>Multan</td>\n",
       "    </tr>\n",
       "    <tr>\n",
       "      <th>4</th>\n",
       "      <td>Sindh</td>\n",
       "      <td>Karachi</td>\n",
       "    </tr>\n",
       "    <tr>\n",
       "      <th>...</th>\n",
       "      <td>...</td>\n",
       "      <td>...</td>\n",
       "    </tr>\n",
       "    <tr>\n",
       "      <th>14995</th>\n",
       "      <td>Sindh</td>\n",
       "      <td>Karachi</td>\n",
       "    </tr>\n",
       "    <tr>\n",
       "      <th>14996</th>\n",
       "      <td>Balochistan</td>\n",
       "      <td>Quetta</td>\n",
       "    </tr>\n",
       "    <tr>\n",
       "      <th>14997</th>\n",
       "      <td>KPK</td>\n",
       "      <td>Peshawar</td>\n",
       "    </tr>\n",
       "    <tr>\n",
       "      <th>14998</th>\n",
       "      <td>Punjab</td>\n",
       "      <td>Multan</td>\n",
       "    </tr>\n",
       "    <tr>\n",
       "      <th>14999</th>\n",
       "      <td>Sindh</td>\n",
       "      <td>Karachi</td>\n",
       "    </tr>\n",
       "  </tbody>\n",
       "</table>\n",
       "<p>15000 rows × 2 columns</p>\n",
       "</div>"
      ],
      "text/plain": [
       "            Region        City\n",
       "0           Punjab      Multan\n",
       "1      Balochistan      Quetta\n",
       "2           Punjab  Rawalpindi\n",
       "3           Punjab      Multan\n",
       "4            Sindh     Karachi\n",
       "...            ...         ...\n",
       "14995        Sindh     Karachi\n",
       "14996  Balochistan      Quetta\n",
       "14997          KPK    Peshawar\n",
       "14998       Punjab      Multan\n",
       "14999        Sindh     Karachi\n",
       "\n",
       "[15000 rows x 2 columns]"
      ]
     },
     "execution_count": 8,
     "metadata": {},
     "output_type": "execute_result"
    }
   ],
   "source": [
    "df[[\"Region\", \"City\"]]"
   ]
  },
  {
   "cell_type": "markdown",
   "id": "fd234238-a087-4e49-9344-6d5e71bf267e",
   "metadata": {},
   "source": [
    "## Language Field Cleaning"
   ]
  },
  {
   "cell_type": "code",
   "execution_count": 9,
   "id": "519b17d0-5f16-4b6f-9aa6-604b91d88e23",
   "metadata": {},
   "outputs": [
    {
     "data": {
      "text/plain": [
       "array(['English', 'urdu', 'Urdu', 'ENG', nan], dtype=object)"
      ]
     },
     "execution_count": 9,
     "metadata": {},
     "output_type": "execute_result"
    }
   ],
   "source": [
    "df[\"Language\"].unique()"
   ]
  },
  {
   "cell_type": "code",
   "execution_count": 10,
   "id": "935ffb06-cdcf-4b86-9cf2-6f24c6c63553",
   "metadata": {},
   "outputs": [],
   "source": [
    "lang_replacement_dict = { \"English\": \"en\", \"urdu\": \"ur\", \"Urdu\": \"ur\", \"ENG\": \"en\"}\n",
    "df[\"Language\"] = df[\"Language\"].replace(lang_replacement_dict)"
   ]
  },
  {
   "cell_type": "code",
   "execution_count": 17,
   "id": "d34c4673-fc4e-488f-90de-df409d3f2d78",
   "metadata": {},
   "outputs": [
    {
     "data": {
      "text/plain": [
       "array(['en', 'ur', nan], dtype=object)"
      ]
     },
     "execution_count": 17,
     "metadata": {},
     "output_type": "execute_result"
    }
   ],
   "source": [
    "df[\"Language\"].unique()"
   ]
  },
  {
   "cell_type": "markdown",
   "id": "32240a67-2de2-4fcd-9a2c-b24b8929c9a2",
   "metadata": {},
   "source": [
    "## Advertisement Revenue Cleaning"
   ]
  },
  {
   "cell_type": "markdown",
   "id": "2c0d5dbc-3306-4ea9-983e-8bc4a9b91152",
   "metadata": {},
   "source": [
    "### Fix Different Monetary Values"
   ]
  },
  {
   "cell_type": "code",
   "execution_count": 83,
   "id": "ec21b5f4-660c-4791-9607-ad7fb2d31914",
   "metadata": {},
   "outputs": [],
   "source": [
    "def get_clean_revenue(d):\n",
    "    f = None\n",
    "\n",
    "    try:\n",
    "        f = float(d)\n",
    "        return f\n",
    "    except:\n",
    "        pass\n",
    "\n",
    "    value, value_multiplier = d.split(\" \")\n",
    "\n",
    "    if value_multiplier == \"lakh\": return float(value) * 100_000\n",
    "    elif value_multiplier == \"crore\": return float(value) * 10_000_000\n",
    "    elif value_multiplier == \"million\": return float(value) * 1_000_000\n",
    "    else: print(value_multiplier)"
   ]
  },
  {
   "cell_type": "code",
   "execution_count": 99,
   "id": "8f477daf-1e28-48f7-8724-85382b0cfd94",
   "metadata": {},
   "outputs": [],
   "source": [
    "df[\"Revenue\"] = df[\"Revenue\"].apply(get_clean_revenue)"
   ]
  },
  {
   "cell_type": "markdown",
   "id": "f746e719-9658-4708-85d2-fee58ce10adc",
   "metadata": {},
   "source": [
    "### Fix negative revenue"
   ]
  },
  {
   "cell_type": "code",
   "execution_count": 103,
   "id": "730b55b0-7bdd-4032-a397-d8fc0eb826a6",
   "metadata": {},
   "outputs": [],
   "source": [
    "df[\"Revenue\"] = pd.to_numeric(df['Revenue'], errors=\"coerce\").clip(lower=0)"
   ]
  },
  {
   "cell_type": "markdown",
   "id": "1a0e1cbb-ad0b-4943-a313-110c02b1609e",
   "metadata": {},
   "source": [
    "## Journalist Cleaning"
   ]
  },
  {
   "cell_type": "code",
   "execution_count": 107,
   "id": "444a3114-5df1-42a0-bd4e-5f2eba0108d7",
   "metadata": {},
   "outputs": [
    {
     "data": {
      "text/plain": [
       "array(['Najam Sethi', 'Dr. Shahid Masood', 'Kamran Shahid',\n",
       "       'Matiullah Jan', 'RAUF KLASSRA', 'Ansar Abbasi', 'Umar Cheema',\n",
       "       'Shahzeb Khanzada', 'shahzeb khanzada', 'Kamran Khan', 'K. Khan',\n",
       "       'Asma Shirazi', 'Mohsin Raza Khan', 'Saleem Safi', 'Talat Hussain',\n",
       "       'Rauf Klasra', 'Owais Tohid', 'Nusrat Javed', 'Mohsin Raza'],\n",
       "      dtype=object)"
      ]
     },
     "execution_count": 107,
     "metadata": {},
     "output_type": "execute_result"
    }
   ],
   "source": [
    "df[\"Journalist\"].unique()\n"
   ]
  },
  {
   "cell_type": "code",
   "execution_count": 108,
   "id": "79b1d886-6e67-4bf8-b3f2-975cc530d5b4",
   "metadata": {},
   "outputs": [],
   "source": [
    "journalist_replacement_dict = { \"RAUF KLASSRA\": \"Rauf Klasra\", \"Mohsin Raza Khan\": \"Mohsin Raza\", \"K. Khan\": \"Kamran Khan\", \"shahzeb khanzada\": \"Shahzeb Khanzada\" }\n",
    "df[\"Journalist\"] = df[\"Journalist\"].replace(journalist_replacement_dict)"
   ]
  },
  {
   "cell_type": "code",
   "execution_count": 109,
   "id": "47a74a58-4273-4fc5-a505-4101a0a5f7b0",
   "metadata": {},
   "outputs": [
    {
     "data": {
      "text/plain": [
       "array(['Najam Sethi', 'Dr. Shahid Masood', 'Kamran Shahid',\n",
       "       'Matiullah Jan', 'Rauf Klasra', 'Ansar Abbasi', 'Umar Cheema',\n",
       "       'Shahzeb Khanzada', 'Kamran Khan', 'Asma Shirazi', 'Mohsin Raza',\n",
       "       'Saleem Safi', 'Talat Hussain', 'Owais Tohid', 'Nusrat Javed'],\n",
       "      dtype=object)"
      ]
     },
     "execution_count": 109,
     "metadata": {},
     "output_type": "execute_result"
    }
   ],
   "source": [
    "df[\"Journalist\"].unique()"
   ]
  },
  {
   "cell_type": "code",
   "execution_count": 110,
   "id": "041a217b-02d0-4791-8081-4cc2c18d1471",
   "metadata": {},
   "outputs": [],
   "source": [
    "df[\"Journalist\"] = df[\"Journalist\"].str.title()"
   ]
  },
  {
   "cell_type": "code",
   "execution_count": 112,
   "id": "a41cc7f3-b406-4454-847c-c2c424212bd7",
   "metadata": {},
   "outputs": [
    {
     "data": {
      "text/plain": [
       "array(['Najam Sethi', 'Dr. Shahid Masood', 'Kamran Shahid',\n",
       "       'Matiullah Jan', 'Rauf Klasra', 'Ansar Abbasi', 'Umar Cheema',\n",
       "       'Shahzeb Khanzada', 'Kamran Khan', 'Asma Shirazi', 'Mohsin Raza',\n",
       "       'Saleem Safi', 'Talat Hussain', 'Owais Tohid', 'Nusrat Javed'],\n",
       "      dtype=object)"
      ]
     },
     "execution_count": 112,
     "metadata": {},
     "output_type": "execute_result"
    }
   ],
   "source": [
    "df[\"Journalist\"].unique()"
   ]
  },
  {
   "cell_type": "markdown",
   "id": "8de0bdb3-7a34-4ae5-b67d-0151de200c87",
   "metadata": {},
   "source": [
    "## Channel Cleaning"
   ]
  },
  {
   "cell_type": "code",
   "execution_count": 115,
   "id": "8987de56-7fb8-46e0-9d00-bee3de6cec99",
   "metadata": {},
   "outputs": [
    {
     "data": {
      "text/plain": [
       "array(['ARY News', 'HUM News', 'Samaa', 'DawnNews', 'SAMAA TV', 'geo',\n",
       "       'AbbTakk News', 'hum news', 'Geo', 'Express-News', 'GEO NEWS',\n",
       "       'ARYNEWS', 'ary', 'DAWN', 'Express', 'ARY'], dtype=object)"
      ]
     },
     "execution_count": 115,
     "metadata": {},
     "output_type": "execute_result"
    }
   ],
   "source": [
    "df[\"Channel\"].unique()"
   ]
  },
  {
   "cell_type": "code",
   "execution_count": 116,
   "id": "528864eb-dc0c-4ee3-9350-37d4a5b3f0b2",
   "metadata": {},
   "outputs": [],
   "source": [
    "channel_replacement_dict = {\"ARYNEWS\": \"ARY News\", \"Samaa\": \"SAMAA TV\", \"DawnNews\": \"DAWN\", \"geo\": \"Geo News\", \"AbbTakk News\": \"Abb Takk News\", \"hum news\": \"HUM News\", \"Geo\": \"Geo News\", \"Express-News\": \"Express News\", \"GEO NEWS\": \"Geo News\", \"ARYNEWS\": \"ARY News\", \"ary\": \"ARY News\", \"Express\": \"Express News\", \"ARY\": \"ARY News\"}\n",
    "df[\"Channel\"] = df[\"Channel\"].replace(channel_replacement_dict)"
   ]
  },
  {
   "cell_type": "code",
   "execution_count": 117,
   "id": "3c47528e-a1ed-4921-8184-b6774a90aaf2",
   "metadata": {},
   "outputs": [
    {
     "data": {
      "text/plain": [
       "array(['ARY News', 'HUM News', 'SAMAA TV', 'DAWN', 'Geo News',\n",
       "       'Abb Takk News', 'Express News'], dtype=object)"
      ]
     },
     "execution_count": 117,
     "metadata": {},
     "output_type": "execute_result"
    }
   ],
   "source": [
    "df[\"Channel\"].unique()"
   ]
  },
  {
   "cell_type": "markdown",
   "id": "d4419a8e-3bb8-45ce-a03d-59f076d2c10c",
   "metadata": {},
   "source": [
    "## Topic & Headline Cleaning"
   ]
  },
  {
   "cell_type": "code",
   "execution_count": 122,
   "id": "fd79795c-c2fc-48d9-a408-86393803cbed",
   "metadata": {},
   "outputs": [
    {
     "data": {
      "text/plain": [
       "array(['Sports', 'Crime', 'Health', 'Terrorism', 'Media', 'Education',\n",
       "       'Judiciary', 'Politics', 'Economy'], dtype=object)"
      ]
     },
     "execution_count": 122,
     "metadata": {},
     "output_type": "execute_result"
    }
   ],
   "source": [
    "df[\"Topic\"].unique()"
   ]
  },
  {
   "cell_type": "code",
   "execution_count": 123,
   "id": "ff3d5a3a-6b8f-448f-b060-eb5b53ac4ec1",
   "metadata": {},
   "outputs": [
    {
     "data": {
      "text/plain": [
       "array(['Polio cases reported in KPK',\n",
       "       'Budget deficit reaches record high',\n",
       "       'Attack on Army convoy in Waziristan',\n",
       "       'Hospitals face medicine shortages',\n",
       "       'Chief Justice orders suo moto on Karachi violence',\n",
       "       'Karachi Kings beat Multan Sultans',\n",
       "       'Doctors protest low salaries',\n",
       "       'Health workers go on strike in Punjab',\n",
       "       'Stock exchange crashes amid crisis',\n",
       "       'Militant hideout destroyed in KPK',\n",
       "       'Opposition stages walkout in National Assembly',\n",
       "       'Dawn faces backlash over editorial',\n",
       "       'Remittances fall sharply in July',\n",
       "       'Judiciary under pressure, say analysts',\n",
       "       'Suicide bombing in Peshawar mosque',\n",
       "       'Cricket team departs for World Cup',\n",
       "       'Pakistan football team defeats India',\n",
       "       'Security forces foil major terror bid',\n",
       "       'High Court stays government decision',\n",
       "       'NDMA warns of heavy rains in Punjab',\n",
       "       'Women cricket team sets new record',\n",
       "       'Exports see slight recovery', 'Five soldiers martyred in ambush',\n",
       "       'Supreme Court issues notice on corruption case',\n",
       "       'Pakistan faces defeat in hockey series',\n",
       "       'PPP vs PMLN war of words heats up',\n",
       "       'Flood relief funds under scrutiny',\n",
       "       'Health crisis follows floods',\n",
       "       'Election rigging scandal unfolds in Lahore',\n",
       "       'Dengue cases rising in Lahore hospitals',\n",
       "       'Bomb blast near Karachi market',\n",
       "       'Hockey team faces funding crisis',\n",
       "       'Punjab launches scholarship scheme', 'IMF deal finalised today',\n",
       "       'Senate passes constitutional amendment',\n",
       "       'Curriculum reforms announced',\n",
       "       'News anchor resigns citing threats',\n",
       "       'Villages submerged in southern Punjab',\n",
       "       'PM announces new economic reforms', 'Trade deficit widens again',\n",
       "       'Cabinet approves controversial media law',\n",
       "       'Education ministry faces criticism',\n",
       "       'Mental health awareness campaign launched',\n",
       "       'Karachi drainage system collapses',\n",
       "       'Teachers boycott classes in KP',\n",
       "       'Revenue from tax declines drastically',\n",
       "       'Court orders release of missing persons',\n",
       "       'PEMRA issues warning to multiple channels',\n",
       "       'HEC budget slashed again',\n",
       "       'Army chief meets PM over political crisis',\n",
       "       'Babar Azam century wins the game',\n",
       "       'Journalists protest censorship in Islamabad',\n",
       "       'Government to increase petrol price by Rs. 20',\n",
       "       'Counter-terrorism department arrests suspects',\n",
       "       'Quetta blast: ISPR releases statement',\n",
       "       'Pakistan seeks investment from Gulf countries',\n",
       "       'New talent emerges in under-19 cricket',\n",
       "       'Government launches CPEC project in Gwadar',\n",
       "       'Floods devastate Sindh villages',\n",
       "       'Khan addresses rally in Multan',\n",
       "       'Student unions demand restoration',\n",
       "       'Thousands displaced due to rains', 'CJ addresses bar association',\n",
       "       'Media freedom at risk, says HRCP report',\n",
       "       'University students protest fee hikes',\n",
       "       'Dollar hits 300 in open market',\n",
       "       'Aid for Balochistan still missing',\n",
       "       'Case adjourned till next week', 'Lawyers boycott proceedings',\n",
       "       'New universities to be established',\n",
       "       'Climate change worsening floods',\n",
       "       'New tax reforms spark debate in parliament',\n",
       "       'Relief camp set up in Multan', 'Digital media gaining popularity',\n",
       "       'Top court rejects NAB report',\n",
       "       'ARY anchor arrested in midnight raid',\n",
       "       'Punjab bans junk food in schools',\n",
       "       'International squash event begins in Islamabad',\n",
       "       'Matric exams leaked in Karachi',\n",
       "       'Terrorist attack in Quetta leaves 20 dead',\n",
       "       'TTP commander killed in operation',\n",
       "       'SC disqualifies minister in assets case',\n",
       "       'Ban on talkshows sparks outrage',\n",
       "       'Government announces new health policy',\n",
       "       'Vaccination drive faces shortage',\n",
       "       'Newspaper circulation declines',\n",
       "       'COVID resurfaces in Islamabad schools',\n",
       "       'PSL Final: Lahore Qalandars vs Karachi Kings',\n",
       "       'Private schools increase fees',\n",
       "       'Geo TV faces heavy fines by PEMRA'], dtype=object)"
      ]
     },
     "execution_count": 123,
     "metadata": {},
     "output_type": "execute_result"
    }
   ],
   "source": [
    "df[\"Headline\"].unique()"
   ]
  },
  {
   "cell_type": "code",
   "execution_count": 124,
   "id": "52ec6388-0617-4055-9a79-7fccfb441c05",
   "metadata": {},
   "outputs": [],
   "source": [
    "def get_topic(headline):\n",
    "    headline = headline.lower()\n",
    "\n",
    "    topics = {\n",
    "        'Sports': ['cricket', 'football', 'hockey', 'psl', 'match', 'beat', 'defeats', 'team', 'world cup', 'tournament', 'sports', 'babar azam'],\n",
    "        'Crime': ['attack', 'kill', 'murder', 'suicide', 'bomb', 'blast', 'arrest', 'raid', 'suspect', 'kidnap', 'theft', 'shooting'],\n",
    "        'Health': ['hospital', 'doctor', 'medicine', 'health', 'dengue', 'polio', 'covid', 'vaccination', 'virus', 'disease', 'shortage', 'mental'],\n",
    "        'Terrorism': ['terror', 'militant', 'ttp', 'bombing', 'waziristan', 'convoy', 'ispr', 'operation', 'blast'],\n",
    "        'Media': ['pemra', 'journalist', 'anchor', 'channel', 'media', 'editorial', 'news', 'censorship', 'talkshow', 'report'],\n",
    "        'Education': ['university', 'school', 'teacher', 'student', 'education', 'curriculum', 'exam', 'scholarship', 'hec'],\n",
    "        'Judiciary': ['court', 'judge', 'justice', 'cj', 'supreme court', 'high court', 'case', 'suo moto', 'lawyer', 'bar association'],\n",
    "        'Politics': ['pm', 'assembly', 'minister', 'senate', 'government', 'cabinet', 'opposition', 'election', 'party', 'politics', 'rally', 'pmln', 'ppp', 'khan'],\n",
    "        'Economy': ['budget', 'deficit', 'economy', 'imf', 'trade', 'stock', 'dollar', 'revenue', 'investment', 'exports', 'imports', 'tax', 'price', 'funds', 'remittance']\n",
    "    }\n",
    "\n",
    "    for topic, keywords in topics.items():\n",
    "        if any(word in headline for word in keywords):\n",
    "            return topic\n",
    "\n",
    "    return 'Other'"
   ]
  },
  {
   "cell_type": "code",
   "execution_count": 129,
   "id": "1929e5a3-f66f-421d-aa79-ede4cf25f954",
   "metadata": {},
   "outputs": [],
   "source": [
    "df[\"Topic\"] = df[\"Headline\"].apply(get_topic)"
   ]
  },
  {
   "cell_type": "markdown",
   "id": "a65b4570-7a8a-4d89-abab-9d79721ed227",
   "metadata": {},
   "source": [
    "## Ratings Cleaning"
   ]
  },
  {
   "cell_type": "code",
   "execution_count": 147,
   "id": "75a222f3-f340-44ce-aa2c-4844a2149ca7",
   "metadata": {},
   "outputs": [],
   "source": [
    "df[\"Ratings\"] = df[\"Ratings\"].clip(upper=100)"
   ]
  },
  {
   "cell_type": "markdown",
   "id": "c97d9288-bdb8-4d16-b86f-18a7644f62b8",
   "metadata": {},
   "source": [
    "## Airtime Cleaning"
   ]
  },
  {
   "cell_type": "code",
   "execution_count": 151,
   "id": "b4680c98-cae3-4c6e-b554-a760910c4fae",
   "metadata": {},
   "outputs": [
    {
     "data": {
      "text/plain": [
       "50      -22.0\n",
       "108      -5.0\n",
       "127     -17.0\n",
       "197     -26.0\n",
       "218     -18.0\n",
       "         ... \n",
       "14920    -4.0\n",
       "14929   -20.0\n",
       "14941   -28.0\n",
       "14944    -8.0\n",
       "14976   -15.0\n",
       "Name: Airtime, Length: 433, dtype: float64"
      ]
     },
     "execution_count": 151,
     "metadata": {},
     "output_type": "execute_result"
    }
   ],
   "source": [
    "df[\"Airtime\"][df[\"Airtime\"] < 0]"
   ]
  },
  {
   "cell_type": "code",
   "execution_count": 152,
   "id": "64bdde1b-d574-4dd3-aea7-a100f27120bc",
   "metadata": {},
   "outputs": [],
   "source": [
    "df[\"Airtime\"] = df[\"Airtime\"].clip(lower=0)"
   ]
  },
  {
   "cell_type": "code",
   "execution_count": 153,
   "id": "f1432ac6-1446-4d06-bd43-3d2f923eb283",
   "metadata": {},
   "outputs": [
    {
     "data": {
      "text/plain": [
       "Series([], Name: Airtime, dtype: float64)"
      ]
     },
     "execution_count": 153,
     "metadata": {},
     "output_type": "execute_result"
    }
   ],
   "source": [
    "df[\"Airtime\"][df[\"Airtime\"] < 0]"
   ]
  },
  {
   "cell_type": "code",
   "execution_count": 154,
   "id": "03b7a151-e1e6-4c74-9a2d-a546d6edcdf2",
   "metadata": {},
   "outputs": [
    {
     "data": {
      "text/plain": [
       "0         25.0\n",
       "2        223.0\n",
       "4        223.0\n",
       "7        117.0\n",
       "9        201.0\n",
       "         ...  \n",
       "14992    418.0\n",
       "14993    157.0\n",
       "14994    134.0\n",
       "14998    150.0\n",
       "14999    324.0\n",
       "Name: Airtime, Length: 7489, dtype: float64"
      ]
     },
     "execution_count": 154,
     "metadata": {},
     "output_type": "execute_result"
    }
   ],
   "source": [
    "df[\"Airtime\"][df[\"Airtime\"] >= 0]"
   ]
  },
  {
   "cell_type": "markdown",
   "id": "4fde2446-4596-4faf-a10d-f13293495b40",
   "metadata": {},
   "source": [
    "## Bias Score Cleaning"
   ]
  },
  {
   "cell_type": "code",
   "execution_count": 156,
   "id": "f09aa34b-12c8-42fc-bfca-9c8c9d802601",
   "metadata": {},
   "outputs": [
    {
     "data": {
      "text/plain": [
       "array([nan,  5.,  2., -1.,  4.,  1.,  3.,  0.])"
      ]
     },
     "execution_count": 156,
     "metadata": {},
     "output_type": "execute_result"
    }
   ],
   "source": [
    "df[\"BiasScore\"].unique()"
   ]
  },
  {
   "cell_type": "code",
   "execution_count": 157,
   "id": "fc35fdcb-1f0a-4cf7-876d-35197171c7e7",
   "metadata": {},
   "outputs": [],
   "source": [
    "df[\"BiasScore\"] = df[\"BiasScore\"].clip(lower=0, upper=10)"
   ]
  },
  {
   "cell_type": "code",
   "execution_count": 158,
   "id": "8da0ced8-08db-4778-be62-e8fb768b8edf",
   "metadata": {},
   "outputs": [
    {
     "data": {
      "text/plain": [
       "array([nan,  5.,  2.,  0.,  4.,  1.,  3.])"
      ]
     },
     "execution_count": 158,
     "metadata": {},
     "output_type": "execute_result"
    }
   ],
   "source": [
    "df[\"BiasScore\"].unique()"
   ]
  },
  {
   "cell_type": "markdown",
   "id": "790cfbd1-1dff-4549-a7af-c8c3513548eb",
   "metadata": {},
   "source": [
    "## Viewership Cleaning"
   ]
  },
  {
   "cell_type": "code",
   "execution_count": 160,
   "id": "e6d57dcb-ebd1-4218-b2f5-539bca91891a",
   "metadata": {},
   "outputs": [
    {
     "data": {
      "text/plain": [
       "min    1.047036e-01\n",
       "max    1.999177e+06\n",
       "Name: Viewership, dtype: float64"
      ]
     },
     "execution_count": 160,
     "metadata": {},
     "output_type": "execute_result"
    }
   ],
   "source": [
    "df[\"Viewership\"].agg([\"min\",\"max\"])"
   ]
  },
  {
   "cell_type": "code",
   "execution_count": 163,
   "id": "23fa31f6-a59b-47e1-b24b-c0c022fc33db",
   "metadata": {},
   "outputs": [
    {
     "ename": "ValueError",
     "evalue": "cannot convert float NaN to integer",
     "output_type": "error",
     "traceback": [
      "\u001b[31m---------------------------------------------------------------------------\u001b[39m",
      "\u001b[31mValueError\u001b[39m                                Traceback (most recent call last)",
      "\u001b[36mCell\u001b[39m\u001b[36m \u001b[39m\u001b[32mIn[163]\u001b[39m\u001b[32m, line 1\u001b[39m\n\u001b[32m----> \u001b[39m\u001b[32m1\u001b[39m df[\u001b[33m\"\u001b[39m\u001b[33mViewership\u001b[39m\u001b[33m\"\u001b[39m] = \u001b[43mdf\u001b[49m\u001b[43m[\u001b[49m\u001b[33;43m\"\u001b[39;49m\u001b[33;43mViewership\u001b[39;49m\u001b[33;43m\"\u001b[39;49m\u001b[43m]\u001b[49m\u001b[43m.\u001b[49m\u001b[43mapply\u001b[49m\u001b[43m(\u001b[49m\u001b[38;5;28;43mint\u001b[39;49m\u001b[43m)\u001b[49m\n",
      "\u001b[36mFile \u001b[39m\u001b[32m/mnt/data/study/uni/sem5/ds/assignment2/venv/lib/python3.13/site-packages/pandas/core/series.py:4943\u001b[39m, in \u001b[36mSeries.apply\u001b[39m\u001b[34m(self, func, convert_dtype, args, by_row, **kwargs)\u001b[39m\n\u001b[32m   4808\u001b[39m \u001b[38;5;28;01mdef\u001b[39;00m\u001b[38;5;250m \u001b[39m\u001b[34mapply\u001b[39m(\n\u001b[32m   4809\u001b[39m     \u001b[38;5;28mself\u001b[39m,\n\u001b[32m   4810\u001b[39m     func: AggFuncType,\n\u001b[32m   (...)\u001b[39m\u001b[32m   4815\u001b[39m     **kwargs,\n\u001b[32m   4816\u001b[39m ) -> DataFrame | Series:\n\u001b[32m   4817\u001b[39m \u001b[38;5;250m    \u001b[39m\u001b[33;03m\"\"\"\u001b[39;00m\n\u001b[32m   4818\u001b[39m \u001b[33;03m    Invoke function on values of Series.\u001b[39;00m\n\u001b[32m   4819\u001b[39m \n\u001b[32m   (...)\u001b[39m\u001b[32m   4934\u001b[39m \u001b[33;03m    dtype: float64\u001b[39;00m\n\u001b[32m   4935\u001b[39m \u001b[33;03m    \"\"\"\u001b[39;00m\n\u001b[32m   4936\u001b[39m     \u001b[38;5;28;01mreturn\u001b[39;00m \u001b[43mSeriesApply\u001b[49m\u001b[43m(\u001b[49m\n\u001b[32m   4937\u001b[39m \u001b[43m        \u001b[49m\u001b[38;5;28;43mself\u001b[39;49m\u001b[43m,\u001b[49m\n\u001b[32m   4938\u001b[39m \u001b[43m        \u001b[49m\u001b[43mfunc\u001b[49m\u001b[43m,\u001b[49m\n\u001b[32m   4939\u001b[39m \u001b[43m        \u001b[49m\u001b[43mconvert_dtype\u001b[49m\u001b[43m=\u001b[49m\u001b[43mconvert_dtype\u001b[49m\u001b[43m,\u001b[49m\n\u001b[32m   4940\u001b[39m \u001b[43m        \u001b[49m\u001b[43mby_row\u001b[49m\u001b[43m=\u001b[49m\u001b[43mby_row\u001b[49m\u001b[43m,\u001b[49m\n\u001b[32m   4941\u001b[39m \u001b[43m        \u001b[49m\u001b[43margs\u001b[49m\u001b[43m=\u001b[49m\u001b[43margs\u001b[49m\u001b[43m,\u001b[49m\n\u001b[32m   4942\u001b[39m \u001b[43m        \u001b[49m\u001b[43mkwargs\u001b[49m\u001b[43m=\u001b[49m\u001b[43mkwargs\u001b[49m\u001b[43m,\u001b[49m\n\u001b[32m-> \u001b[39m\u001b[32m4943\u001b[39m \u001b[43m    \u001b[49m\u001b[43m)\u001b[49m\u001b[43m.\u001b[49m\u001b[43mapply\u001b[49m\u001b[43m(\u001b[49m\u001b[43m)\u001b[49m\n",
      "\u001b[36mFile \u001b[39m\u001b[32m/mnt/data/study/uni/sem5/ds/assignment2/venv/lib/python3.13/site-packages/pandas/core/apply.py:1422\u001b[39m, in \u001b[36mSeriesApply.apply\u001b[39m\u001b[34m(self)\u001b[39m\n\u001b[32m   1419\u001b[39m     \u001b[38;5;28;01mreturn\u001b[39;00m \u001b[38;5;28mself\u001b[39m.apply_compat()\n\u001b[32m   1421\u001b[39m \u001b[38;5;66;03m# self.func is Callable\u001b[39;00m\n\u001b[32m-> \u001b[39m\u001b[32m1422\u001b[39m \u001b[38;5;28;01mreturn\u001b[39;00m \u001b[38;5;28;43mself\u001b[39;49m\u001b[43m.\u001b[49m\u001b[43mapply_standard\u001b[49m\u001b[43m(\u001b[49m\u001b[43m)\u001b[49m\n",
      "\u001b[36mFile \u001b[39m\u001b[32m/mnt/data/study/uni/sem5/ds/assignment2/venv/lib/python3.13/site-packages/pandas/core/apply.py:1502\u001b[39m, in \u001b[36mSeriesApply.apply_standard\u001b[39m\u001b[34m(self)\u001b[39m\n\u001b[32m   1496\u001b[39m \u001b[38;5;66;03m# row-wise access\u001b[39;00m\n\u001b[32m   1497\u001b[39m \u001b[38;5;66;03m# apply doesn't have a `na_action` keyword and for backward compat reasons\u001b[39;00m\n\u001b[32m   1498\u001b[39m \u001b[38;5;66;03m# we need to give `na_action=\"ignore\"` for categorical data.\u001b[39;00m\n\u001b[32m   1499\u001b[39m \u001b[38;5;66;03m# TODO: remove the `na_action=\"ignore\"` when that default has been changed in\u001b[39;00m\n\u001b[32m   1500\u001b[39m \u001b[38;5;66;03m#  Categorical (GH51645).\u001b[39;00m\n\u001b[32m   1501\u001b[39m action = \u001b[33m\"\u001b[39m\u001b[33mignore\u001b[39m\u001b[33m\"\u001b[39m \u001b[38;5;28;01mif\u001b[39;00m \u001b[38;5;28misinstance\u001b[39m(obj.dtype, CategoricalDtype) \u001b[38;5;28;01melse\u001b[39;00m \u001b[38;5;28;01mNone\u001b[39;00m\n\u001b[32m-> \u001b[39m\u001b[32m1502\u001b[39m mapped = \u001b[43mobj\u001b[49m\u001b[43m.\u001b[49m\u001b[43m_map_values\u001b[49m\u001b[43m(\u001b[49m\n\u001b[32m   1503\u001b[39m \u001b[43m    \u001b[49m\u001b[43mmapper\u001b[49m\u001b[43m=\u001b[49m\u001b[43mcurried\u001b[49m\u001b[43m,\u001b[49m\u001b[43m \u001b[49m\u001b[43mna_action\u001b[49m\u001b[43m=\u001b[49m\u001b[43maction\u001b[49m\u001b[43m,\u001b[49m\u001b[43m \u001b[49m\u001b[43mconvert\u001b[49m\u001b[43m=\u001b[49m\u001b[38;5;28;43mself\u001b[39;49m\u001b[43m.\u001b[49m\u001b[43mconvert_dtype\u001b[49m\n\u001b[32m   1504\u001b[39m \u001b[43m\u001b[49m\u001b[43m)\u001b[49m\n\u001b[32m   1506\u001b[39m \u001b[38;5;28;01mif\u001b[39;00m \u001b[38;5;28mlen\u001b[39m(mapped) \u001b[38;5;129;01mand\u001b[39;00m \u001b[38;5;28misinstance\u001b[39m(mapped[\u001b[32m0\u001b[39m], ABCSeries):\n\u001b[32m   1507\u001b[39m     \u001b[38;5;66;03m# GH#43986 Need to do list(mapped) in order to get treated as nested\u001b[39;00m\n\u001b[32m   1508\u001b[39m     \u001b[38;5;66;03m#  See also GH#25959 regarding EA support\u001b[39;00m\n\u001b[32m   1509\u001b[39m     \u001b[38;5;28;01mreturn\u001b[39;00m obj._constructor_expanddim(\u001b[38;5;28mlist\u001b[39m(mapped), index=obj.index)\n",
      "\u001b[36mFile \u001b[39m\u001b[32m/mnt/data/study/uni/sem5/ds/assignment2/venv/lib/python3.13/site-packages/pandas/core/base.py:925\u001b[39m, in \u001b[36mIndexOpsMixin._map_values\u001b[39m\u001b[34m(self, mapper, na_action, convert)\u001b[39m\n\u001b[32m    922\u001b[39m \u001b[38;5;28;01mif\u001b[39;00m \u001b[38;5;28misinstance\u001b[39m(arr, ExtensionArray):\n\u001b[32m    923\u001b[39m     \u001b[38;5;28;01mreturn\u001b[39;00m arr.map(mapper, na_action=na_action)\n\u001b[32m--> \u001b[39m\u001b[32m925\u001b[39m \u001b[38;5;28;01mreturn\u001b[39;00m \u001b[43malgorithms\u001b[49m\u001b[43m.\u001b[49m\u001b[43mmap_array\u001b[49m\u001b[43m(\u001b[49m\u001b[43marr\u001b[49m\u001b[43m,\u001b[49m\u001b[43m \u001b[49m\u001b[43mmapper\u001b[49m\u001b[43m,\u001b[49m\u001b[43m \u001b[49m\u001b[43mna_action\u001b[49m\u001b[43m=\u001b[49m\u001b[43mna_action\u001b[49m\u001b[43m,\u001b[49m\u001b[43m \u001b[49m\u001b[43mconvert\u001b[49m\u001b[43m=\u001b[49m\u001b[43mconvert\u001b[49m\u001b[43m)\u001b[49m\n",
      "\u001b[36mFile \u001b[39m\u001b[32m/mnt/data/study/uni/sem5/ds/assignment2/venv/lib/python3.13/site-packages/pandas/core/algorithms.py:1743\u001b[39m, in \u001b[36mmap_array\u001b[39m\u001b[34m(arr, mapper, na_action, convert)\u001b[39m\n\u001b[32m   1741\u001b[39m values = arr.astype(\u001b[38;5;28mobject\u001b[39m, copy=\u001b[38;5;28;01mFalse\u001b[39;00m)\n\u001b[32m   1742\u001b[39m \u001b[38;5;28;01mif\u001b[39;00m na_action \u001b[38;5;129;01mis\u001b[39;00m \u001b[38;5;28;01mNone\u001b[39;00m:\n\u001b[32m-> \u001b[39m\u001b[32m1743\u001b[39m     \u001b[38;5;28;01mreturn\u001b[39;00m \u001b[43mlib\u001b[49m\u001b[43m.\u001b[49m\u001b[43mmap_infer\u001b[49m\u001b[43m(\u001b[49m\u001b[43mvalues\u001b[49m\u001b[43m,\u001b[49m\u001b[43m \u001b[49m\u001b[43mmapper\u001b[49m\u001b[43m,\u001b[49m\u001b[43m \u001b[49m\u001b[43mconvert\u001b[49m\u001b[43m=\u001b[49m\u001b[43mconvert\u001b[49m\u001b[43m)\u001b[49m\n\u001b[32m   1744\u001b[39m \u001b[38;5;28;01melse\u001b[39;00m:\n\u001b[32m   1745\u001b[39m     \u001b[38;5;28;01mreturn\u001b[39;00m lib.map_infer_mask(\n\u001b[32m   1746\u001b[39m         values, mapper, mask=isna(values).view(np.uint8), convert=convert\n\u001b[32m   1747\u001b[39m     )\n",
      "\u001b[36mFile \u001b[39m\u001b[32mpandas/_libs/lib.pyx:2999\u001b[39m, in \u001b[36mpandas._libs.lib.map_infer\u001b[39m\u001b[34m()\u001b[39m\n",
      "\u001b[31mValueError\u001b[39m: cannot convert float NaN to integer"
     ]
    }
   ],
   "source": [
    "def get_cleaned_viewership(f):\n",
    "    if "
   ]
  },
  {
   "cell_type": "code",
   "execution_count": 161,
   "id": "cff372b6-4968-4010-adc4-424983bfe881",
   "metadata": {},
   "outputs": [],
   "source": [
    "df[\"Viewership\"] = df[\"Viewership\"].clip(lower=0)"
   ]
  },
  {
   "cell_type": "code",
   "execution_count": 162,
   "id": "22cd6495-8b15-4522-a26c-0fccb23543db",
   "metadata": {},
   "outputs": [
    {
     "data": {
      "text/plain": [
       "min    1.047036e-01\n",
       "max    1.999177e+06\n",
       "Name: Viewership, dtype: float64"
      ]
     },
     "execution_count": 162,
     "metadata": {},
     "output_type": "execute_result"
    }
   ],
   "source": [
    "df[\"Viewership\"].agg([\"min\",\"max\"])"
   ]
  },
  {
   "cell_type": "code",
   "execution_count": null,
   "id": "eb005e50-afae-47aa-b530-7be3e46ace1a",
   "metadata": {},
   "outputs": [],
   "source": []
  }
 ],
 "metadata": {
  "kernelspec": {
   "display_name": "Python 3 (ipykernel)",
   "language": "python",
   "name": "python3"
  },
  "language_info": {
   "codemirror_mode": {
    "name": "ipython",
    "version": 3
   },
   "file_extension": ".py",
   "mimetype": "text/x-python",
   "name": "python",
   "nbconvert_exporter": "python",
   "pygments_lexer": "ipython3",
   "version": "3.13.7"
  }
 },
 "nbformat": 4,
 "nbformat_minor": 5
}
