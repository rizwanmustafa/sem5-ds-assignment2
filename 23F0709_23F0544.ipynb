{
 "cells": [
  {
   "cell_type": "code",
   "execution_count": 1,
   "id": "eb6fbd42-b0a6-4cdd-9ed4-41ea3746b13a",
   "metadata": {},
   "outputs": [],
   "source": [
    "import pandas as pd\n",
    "import numpy as np"
   ]
  },
  {
   "cell_type": "code",
   "execution_count": 2,
   "id": "8e7d84fc-9bb3-4338-a5d1-98bb8cafb91d",
   "metadata": {},
   "outputs": [],
   "source": [
    "raw_df = pd.read_csv('data/pakistan-media-dataset-synthetic.csv')"
   ]
  },
  {
   "cell_type": "code",
   "execution_count": 3,
   "id": "d639ddda-e74f-43a6-9f01-ccf3c698d1c7",
   "metadata": {},
   "outputs": [],
   "source": [
    "df = raw_df.copy()"
   ]
  },
  {
   "cell_type": "markdown",
   "id": "d767d139-45a8-4e11-a5d4-c33ace1f22f4",
   "metadata": {},
   "source": [
    "# Clean Data"
   ]
  },
  {
   "cell_type": "code",
   "execution_count": 4,
   "id": "1c251129-60b7-4355-b1d5-0905b8f80661",
   "metadata": {},
   "outputs": [
    {
     "data": {
      "text/html": [
       "<div>\n",
       "<style scoped>\n",
       "    .dataframe tbody tr th:only-of-type {\n",
       "        vertical-align: middle;\n",
       "    }\n",
       "\n",
       "    .dataframe tbody tr th {\n",
       "        vertical-align: top;\n",
       "    }\n",
       "\n",
       "    .dataframe thead th {\n",
       "        text-align: right;\n",
       "    }\n",
       "</style>\n",
       "<table border=\"1\" class=\"dataframe\">\n",
       "  <thead>\n",
       "    <tr style=\"text-align: right;\">\n",
       "      <th></th>\n",
       "      <th>Region</th>\n",
       "      <th>City</th>\n",
       "    </tr>\n",
       "  </thead>\n",
       "  <tbody>\n",
       "    <tr>\n",
       "      <th>0</th>\n",
       "      <td>Islamabad</td>\n",
       "      <td>Multan</td>\n",
       "    </tr>\n",
       "    <tr>\n",
       "      <th>1</th>\n",
       "      <td>Sindh</td>\n",
       "      <td>Quetta</td>\n",
       "    </tr>\n",
       "    <tr>\n",
       "      <th>2</th>\n",
       "      <td>Sindh</td>\n",
       "      <td>Rawalpindi</td>\n",
       "    </tr>\n",
       "    <tr>\n",
       "      <th>3</th>\n",
       "      <td>Islamabad</td>\n",
       "      <td>Multan</td>\n",
       "    </tr>\n",
       "    <tr>\n",
       "      <th>4</th>\n",
       "      <td>Sindh</td>\n",
       "      <td>Karachi</td>\n",
       "    </tr>\n",
       "    <tr>\n",
       "      <th>...</th>\n",
       "      <td>...</td>\n",
       "      <td>...</td>\n",
       "    </tr>\n",
       "    <tr>\n",
       "      <th>14995</th>\n",
       "      <td>KPK</td>\n",
       "      <td>Karachi</td>\n",
       "    </tr>\n",
       "    <tr>\n",
       "      <th>14996</th>\n",
       "      <td>Punjab</td>\n",
       "      <td>Quetta</td>\n",
       "    </tr>\n",
       "    <tr>\n",
       "      <th>14997</th>\n",
       "      <td>Islamabad</td>\n",
       "      <td>Peshawar</td>\n",
       "    </tr>\n",
       "    <tr>\n",
       "      <th>14998</th>\n",
       "      <td>Sindh</td>\n",
       "      <td>Multan</td>\n",
       "    </tr>\n",
       "    <tr>\n",
       "      <th>14999</th>\n",
       "      <td>KPK</td>\n",
       "      <td>Karachi</td>\n",
       "    </tr>\n",
       "  </tbody>\n",
       "</table>\n",
       "<p>15000 rows × 2 columns</p>\n",
       "</div>"
      ],
      "text/plain": [
       "          Region        City\n",
       "0      Islamabad      Multan\n",
       "1          Sindh      Quetta\n",
       "2          Sindh  Rawalpindi\n",
       "3      Islamabad      Multan\n",
       "4          Sindh     Karachi\n",
       "...          ...         ...\n",
       "14995        KPK     Karachi\n",
       "14996     Punjab      Quetta\n",
       "14997  Islamabad    Peshawar\n",
       "14998      Sindh      Multan\n",
       "14999        KPK     Karachi\n",
       "\n",
       "[15000 rows x 2 columns]"
      ]
     },
     "execution_count": 4,
     "metadata": {},
     "output_type": "execute_result"
    }
   ],
   "source": [
    "df[[\"Region\", \"City\"]]"
   ]
  },
  {
   "cell_type": "markdown",
   "id": "e652746e-3fbb-4575-8bbf-3682cdc2a851",
   "metadata": {},
   "source": [
    "## Region-City Cleaning\n",
    "We can clearly see wrong regions associated with cities. Let's fix that"
   ]
  },
  {
   "cell_type": "code",
   "execution_count": 5,
   "id": "e4d7b288-5365-4f38-9c5c-ac4bd33598b1",
   "metadata": {},
   "outputs": [
    {
     "data": {
      "text/plain": [
       "array(['Multan', 'Quetta', 'Rawalpindi', 'Karachi', 'Peshawar',\n",
       "       'Islamabad', 'Lahore', 'Hyderabad'], dtype=object)"
      ]
     },
     "execution_count": 5,
     "metadata": {},
     "output_type": "execute_result"
    }
   ],
   "source": [
    "# Let's print the unique cities\n",
    "df[\"City\"].unique()"
   ]
  },
  {
   "cell_type": "code",
   "execution_count": 6,
   "id": "de9d1625-e9c6-4036-8729-4a301e9e2694",
   "metadata": {},
   "outputs": [
    {
     "data": {
      "text/plain": [
       "array(['Islamabad', 'Sindh', 'Balochistan', 'KPK', 'Punjab', 'AJK'],\n",
       "      dtype=object)"
      ]
     },
     "execution_count": 6,
     "metadata": {},
     "output_type": "execute_result"
    }
   ],
   "source": [
    "# Let's print the unique regions\n",
    "df[\"Region\"].unique()"
   ]
  },
  {
   "cell_type": "code",
   "execution_count": 7,
   "id": "a752f0b5-7680-4093-b2d3-82c6dbfd535d",
   "metadata": {},
   "outputs": [],
   "source": [
    "def get_region(city):\n",
    "    if city in [\"Multan\", \"Rawalpindi\", \"Lahore\"]: return \"Punjab\"\n",
    "    elif city in [\"Quetta\"]: return \"Balochistan\"\n",
    "    elif city in [\"Karachi\", \"Hyderabad\"]: return \"Sindh\"\n",
    "    elif city in [\"Peshawar\"]: return \"KPK\"\n",
    "    elif city in [\"Islamabad\"]: return \"Islamabad\"\n",
    "    else: return pd.NA\n",
    "\n",
    "df[\"Region\"] = df[\"City\"].apply(get_region)\n"
   ]
  },
  {
   "cell_type": "code",
   "execution_count": 8,
   "id": "1e5ea8d8-dbcd-4e65-9320-afcad8874514",
   "metadata": {},
   "outputs": [
    {
     "data": {
      "text/html": [
       "<div>\n",
       "<style scoped>\n",
       "    .dataframe tbody tr th:only-of-type {\n",
       "        vertical-align: middle;\n",
       "    }\n",
       "\n",
       "    .dataframe tbody tr th {\n",
       "        vertical-align: top;\n",
       "    }\n",
       "\n",
       "    .dataframe thead th {\n",
       "        text-align: right;\n",
       "    }\n",
       "</style>\n",
       "<table border=\"1\" class=\"dataframe\">\n",
       "  <thead>\n",
       "    <tr style=\"text-align: right;\">\n",
       "      <th></th>\n",
       "      <th>Region</th>\n",
       "      <th>City</th>\n",
       "    </tr>\n",
       "  </thead>\n",
       "  <tbody>\n",
       "    <tr>\n",
       "      <th>0</th>\n",
       "      <td>Punjab</td>\n",
       "      <td>Multan</td>\n",
       "    </tr>\n",
       "    <tr>\n",
       "      <th>1</th>\n",
       "      <td>Balochistan</td>\n",
       "      <td>Quetta</td>\n",
       "    </tr>\n",
       "    <tr>\n",
       "      <th>2</th>\n",
       "      <td>Punjab</td>\n",
       "      <td>Rawalpindi</td>\n",
       "    </tr>\n",
       "    <tr>\n",
       "      <th>3</th>\n",
       "      <td>Punjab</td>\n",
       "      <td>Multan</td>\n",
       "    </tr>\n",
       "    <tr>\n",
       "      <th>4</th>\n",
       "      <td>Sindh</td>\n",
       "      <td>Karachi</td>\n",
       "    </tr>\n",
       "    <tr>\n",
       "      <th>...</th>\n",
       "      <td>...</td>\n",
       "      <td>...</td>\n",
       "    </tr>\n",
       "    <tr>\n",
       "      <th>14995</th>\n",
       "      <td>Sindh</td>\n",
       "      <td>Karachi</td>\n",
       "    </tr>\n",
       "    <tr>\n",
       "      <th>14996</th>\n",
       "      <td>Balochistan</td>\n",
       "      <td>Quetta</td>\n",
       "    </tr>\n",
       "    <tr>\n",
       "      <th>14997</th>\n",
       "      <td>KPK</td>\n",
       "      <td>Peshawar</td>\n",
       "    </tr>\n",
       "    <tr>\n",
       "      <th>14998</th>\n",
       "      <td>Punjab</td>\n",
       "      <td>Multan</td>\n",
       "    </tr>\n",
       "    <tr>\n",
       "      <th>14999</th>\n",
       "      <td>Sindh</td>\n",
       "      <td>Karachi</td>\n",
       "    </tr>\n",
       "  </tbody>\n",
       "</table>\n",
       "<p>15000 rows × 2 columns</p>\n",
       "</div>"
      ],
      "text/plain": [
       "            Region        City\n",
       "0           Punjab      Multan\n",
       "1      Balochistan      Quetta\n",
       "2           Punjab  Rawalpindi\n",
       "3           Punjab      Multan\n",
       "4            Sindh     Karachi\n",
       "...            ...         ...\n",
       "14995        Sindh     Karachi\n",
       "14996  Balochistan      Quetta\n",
       "14997          KPK    Peshawar\n",
       "14998       Punjab      Multan\n",
       "14999        Sindh     Karachi\n",
       "\n",
       "[15000 rows x 2 columns]"
      ]
     },
     "execution_count": 8,
     "metadata": {},
     "output_type": "execute_result"
    }
   ],
   "source": [
    "df[[\"Region\", \"City\"]]"
   ]
  },
  {
   "cell_type": "markdown",
   "id": "fd234238-a087-4e49-9344-6d5e71bf267e",
   "metadata": {},
   "source": [
    "## Language Field Cleaning"
   ]
  },
  {
   "cell_type": "code",
   "execution_count": 9,
   "id": "519b17d0-5f16-4b6f-9aa6-604b91d88e23",
   "metadata": {},
   "outputs": [
    {
     "data": {
      "text/plain": [
       "array(['English', 'urdu', 'Urdu', 'ENG', nan], dtype=object)"
      ]
     },
     "execution_count": 9,
     "metadata": {},
     "output_type": "execute_result"
    }
   ],
   "source": [
    "df[\"Language\"].unique()"
   ]
  },
  {
   "cell_type": "code",
   "execution_count": 10,
   "id": "935ffb06-cdcf-4b86-9cf2-6f24c6c63553",
   "metadata": {},
   "outputs": [],
   "source": [
    "lang_replacement_dict = { \"English\": \"en\", \"urdu\": \"ur\", \"Urdu\": \"ur\", \"ENG\": \"en\"}\n",
    "df[\"Language\"] = df[\"Language\"].replace(lang_replacement_dict)"
   ]
  },
  {
   "cell_type": "code",
   "execution_count": 11,
   "id": "d34c4673-fc4e-488f-90de-df409d3f2d78",
   "metadata": {},
   "outputs": [
    {
     "data": {
      "text/plain": [
       "array(['en', 'ur', nan], dtype=object)"
      ]
     },
     "execution_count": 11,
     "metadata": {},
     "output_type": "execute_result"
    }
   ],
   "source": [
    "df[\"Language\"].unique()"
   ]
  },
  {
   "cell_type": "markdown",
   "id": "32240a67-2de2-4fcd-9a2c-b24b8929c9a2",
   "metadata": {},
   "source": [
    "## Advertisement Revenue Cleaning"
   ]
  },
  {
   "cell_type": "markdown",
   "id": "2c0d5dbc-3306-4ea9-983e-8bc4a9b91152",
   "metadata": {},
   "source": [
    "### Fix Different Monetary Values"
   ]
  },
  {
   "cell_type": "code",
   "execution_count": 12,
   "id": "ec21b5f4-660c-4791-9607-ad7fb2d31914",
   "metadata": {},
   "outputs": [],
   "source": [
    "def get_clean_revenue(d):\n",
    "    f = None\n",
    "\n",
    "    try:\n",
    "        f = float(d)\n",
    "        return f\n",
    "    except:\n",
    "        pass\n",
    "\n",
    "    value, value_multiplier = d.split(\" \")\n",
    "\n",
    "    if value_multiplier == \"lakh\": return float(value) * 100_000\n",
    "    elif value_multiplier == \"crore\": return float(value) * 10_000_000\n",
    "    elif value_multiplier == \"million\": return float(value) * 1_000_000\n",
    "    else: print(value_multiplier)"
   ]
  },
  {
   "cell_type": "code",
   "execution_count": 13,
   "id": "8f477daf-1e28-48f7-8724-85382b0cfd94",
   "metadata": {},
   "outputs": [],
   "source": [
    "df[\"Revenue\"] = df[\"Revenue\"].apply(get_clean_revenue)"
   ]
  },
  {
   "cell_type": "markdown",
   "id": "f746e719-9658-4708-85d2-fee58ce10adc",
   "metadata": {},
   "source": [
    "### Fix negative revenue"
   ]
  },
  {
   "cell_type": "code",
   "execution_count": 14,
   "id": "730b55b0-7bdd-4032-a397-d8fc0eb826a6",
   "metadata": {},
   "outputs": [],
   "source": [
    "df[\"Revenue\"] = pd.to_numeric(df['Revenue'], errors=\"coerce\").clip(lower=0)"
   ]
  },
  {
   "cell_type": "markdown",
   "id": "1a0e1cbb-ad0b-4943-a313-110c02b1609e",
   "metadata": {},
   "source": [
    "## Journalist Cleaning"
   ]
  },
  {
   "cell_type": "code",
   "execution_count": 15,
   "id": "444a3114-5df1-42a0-bd4e-5f2eba0108d7",
   "metadata": {},
   "outputs": [
    {
     "data": {
      "text/plain": [
       "array(['Najam Sethi', 'Dr. Shahid Masood', 'Kamran Shahid',\n",
       "       'Matiullah Jan', 'RAUF KLASSRA', 'Ansar Abbasi', 'Umar Cheema',\n",
       "       'Shahzeb Khanzada', 'shahzeb khanzada', 'Kamran Khan', 'K. Khan',\n",
       "       'Asma Shirazi', 'Mohsin Raza Khan', 'Saleem Safi', 'Talat Hussain',\n",
       "       'Rauf Klasra', 'Owais Tohid', 'Nusrat Javed', 'Mohsin Raza'],\n",
       "      dtype=object)"
      ]
     },
     "execution_count": 15,
     "metadata": {},
     "output_type": "execute_result"
    }
   ],
   "source": [
    "df[\"Journalist\"].unique()\n"
   ]
  },
  {
   "cell_type": "code",
   "execution_count": 16,
   "id": "79b1d886-6e67-4bf8-b3f2-975cc530d5b4",
   "metadata": {},
   "outputs": [],
   "source": [
    "journalist_replacement_dict = { \"RAUF KLASSRA\": \"Rauf Klasra\", \"Mohsin Raza Khan\": \"Mohsin Raza\", \"K. Khan\": \"Kamran Khan\", \"shahzeb khanzada\": \"Shahzeb Khanzada\" }\n",
    "df[\"Journalist\"] = df[\"Journalist\"].replace(journalist_replacement_dict)"
   ]
  },
  {
   "cell_type": "code",
   "execution_count": 17,
   "id": "47a74a58-4273-4fc5-a505-4101a0a5f7b0",
   "metadata": {},
   "outputs": [
    {
     "data": {
      "text/plain": [
       "array(['Najam Sethi', 'Dr. Shahid Masood', 'Kamran Shahid',\n",
       "       'Matiullah Jan', 'Rauf Klasra', 'Ansar Abbasi', 'Umar Cheema',\n",
       "       'Shahzeb Khanzada', 'Kamran Khan', 'Asma Shirazi', 'Mohsin Raza',\n",
       "       'Saleem Safi', 'Talat Hussain', 'Owais Tohid', 'Nusrat Javed'],\n",
       "      dtype=object)"
      ]
     },
     "execution_count": 17,
     "metadata": {},
     "output_type": "execute_result"
    }
   ],
   "source": [
    "df[\"Journalist\"].unique()"
   ]
  },
  {
   "cell_type": "code",
   "execution_count": 18,
   "id": "041a217b-02d0-4791-8081-4cc2c18d1471",
   "metadata": {},
   "outputs": [],
   "source": [
    "df[\"Journalist\"] = df[\"Journalist\"].str.title()"
   ]
  },
  {
   "cell_type": "code",
   "execution_count": 19,
   "id": "a41cc7f3-b406-4454-847c-c2c424212bd7",
   "metadata": {},
   "outputs": [
    {
     "data": {
      "text/plain": [
       "array(['Najam Sethi', 'Dr. Shahid Masood', 'Kamran Shahid',\n",
       "       'Matiullah Jan', 'Rauf Klasra', 'Ansar Abbasi', 'Umar Cheema',\n",
       "       'Shahzeb Khanzada', 'Kamran Khan', 'Asma Shirazi', 'Mohsin Raza',\n",
       "       'Saleem Safi', 'Talat Hussain', 'Owais Tohid', 'Nusrat Javed'],\n",
       "      dtype=object)"
      ]
     },
     "execution_count": 19,
     "metadata": {},
     "output_type": "execute_result"
    }
   ],
   "source": [
    "df[\"Journalist\"].unique()"
   ]
  },
  {
   "cell_type": "markdown",
   "id": "8de0bdb3-7a34-4ae5-b67d-0151de200c87",
   "metadata": {},
   "source": [
    "## Channel Cleaning"
   ]
  },
  {
   "cell_type": "code",
   "execution_count": 20,
   "id": "8987de56-7fb8-46e0-9d00-bee3de6cec99",
   "metadata": {},
   "outputs": [
    {
     "data": {
      "text/plain": [
       "array(['ARY News', 'HUM News', 'Samaa', 'DawnNews', 'SAMAA TV', 'geo',\n",
       "       'AbbTakk News', 'hum news', 'Geo', 'Express-News', 'GEO NEWS',\n",
       "       'ARYNEWS', 'ary', 'DAWN', 'Express', 'ARY'], dtype=object)"
      ]
     },
     "execution_count": 20,
     "metadata": {},
     "output_type": "execute_result"
    }
   ],
   "source": [
    "df[\"Channel\"].unique()"
   ]
  },
  {
   "cell_type": "code",
   "execution_count": 21,
   "id": "528864eb-dc0c-4ee3-9350-37d4a5b3f0b2",
   "metadata": {},
   "outputs": [],
   "source": [
    "channel_replacement_dict = {\"ARYNEWS\": \"ARY News\", \"Samaa\": \"SAMAA TV\", \"DawnNews\": \"DAWN\", \"geo\": \"Geo News\", \"AbbTakk News\": \"Abb Takk News\", \"hum news\": \"HUM News\", \"Geo\": \"Geo News\", \"Express-News\": \"Express News\", \"GEO NEWS\": \"Geo News\", \"ARYNEWS\": \"ARY News\", \"ary\": \"ARY News\", \"Express\": \"Express News\", \"ARY\": \"ARY News\"}\n",
    "df[\"Channel\"] = df[\"Channel\"].replace(channel_replacement_dict)"
   ]
  },
  {
   "cell_type": "code",
   "execution_count": 22,
   "id": "3c47528e-a1ed-4921-8184-b6774a90aaf2",
   "metadata": {},
   "outputs": [
    {
     "data": {
      "text/plain": [
       "array(['ARY News', 'HUM News', 'SAMAA TV', 'DAWN', 'Geo News',\n",
       "       'Abb Takk News', 'Express News'], dtype=object)"
      ]
     },
     "execution_count": 22,
     "metadata": {},
     "output_type": "execute_result"
    }
   ],
   "source": [
    "df[\"Channel\"].unique()"
   ]
  },
  {
   "cell_type": "markdown",
   "id": "d4419a8e-3bb8-45ce-a03d-59f076d2c10c",
   "metadata": {},
   "source": [
    "## Topic & Headline Cleaning"
   ]
  },
  {
   "cell_type": "code",
   "execution_count": 23,
   "id": "fd79795c-c2fc-48d9-a408-86393803cbed",
   "metadata": {},
   "outputs": [
    {
     "data": {
      "text/plain": [
       "array(['Sports', 'Crime', 'Health', 'Terrorism', 'Media', 'Education',\n",
       "       'Judiciary', 'Politics', 'Economy'], dtype=object)"
      ]
     },
     "execution_count": 23,
     "metadata": {},
     "output_type": "execute_result"
    }
   ],
   "source": [
    "df[\"Topic\"].unique()"
   ]
  },
  {
   "cell_type": "code",
   "execution_count": 24,
   "id": "ff3d5a3a-6b8f-448f-b060-eb5b53ac4ec1",
   "metadata": {},
   "outputs": [
    {
     "data": {
      "text/plain": [
       "array(['Polio cases reported in KPK',\n",
       "       'Budget deficit reaches record high',\n",
       "       'Attack on Army convoy in Waziristan',\n",
       "       'Hospitals face medicine shortages',\n",
       "       'Chief Justice orders suo moto on Karachi violence',\n",
       "       'Karachi Kings beat Multan Sultans',\n",
       "       'Doctors protest low salaries',\n",
       "       'Health workers go on strike in Punjab',\n",
       "       'Stock exchange crashes amid crisis',\n",
       "       'Militant hideout destroyed in KPK',\n",
       "       'Opposition stages walkout in National Assembly',\n",
       "       'Dawn faces backlash over editorial',\n",
       "       'Remittances fall sharply in July',\n",
       "       'Judiciary under pressure, say analysts',\n",
       "       'Suicide bombing in Peshawar mosque',\n",
       "       'Cricket team departs for World Cup',\n",
       "       'Pakistan football team defeats India',\n",
       "       'Security forces foil major terror bid',\n",
       "       'High Court stays government decision',\n",
       "       'NDMA warns of heavy rains in Punjab',\n",
       "       'Women cricket team sets new record',\n",
       "       'Exports see slight recovery', 'Five soldiers martyred in ambush',\n",
       "       'Supreme Court issues notice on corruption case',\n",
       "       'Pakistan faces defeat in hockey series',\n",
       "       'PPP vs PMLN war of words heats up',\n",
       "       'Flood relief funds under scrutiny',\n",
       "       'Health crisis follows floods',\n",
       "       'Election rigging scandal unfolds in Lahore',\n",
       "       'Dengue cases rising in Lahore hospitals',\n",
       "       'Bomb blast near Karachi market',\n",
       "       'Hockey team faces funding crisis',\n",
       "       'Punjab launches scholarship scheme', 'IMF deal finalised today',\n",
       "       'Senate passes constitutional amendment',\n",
       "       'Curriculum reforms announced',\n",
       "       'News anchor resigns citing threats',\n",
       "       'Villages submerged in southern Punjab',\n",
       "       'PM announces new economic reforms', 'Trade deficit widens again',\n",
       "       'Cabinet approves controversial media law',\n",
       "       'Education ministry faces criticism',\n",
       "       'Mental health awareness campaign launched',\n",
       "       'Karachi drainage system collapses',\n",
       "       'Teachers boycott classes in KP',\n",
       "       'Revenue from tax declines drastically',\n",
       "       'Court orders release of missing persons',\n",
       "       'PEMRA issues warning to multiple channels',\n",
       "       'HEC budget slashed again',\n",
       "       'Army chief meets PM over political crisis',\n",
       "       'Babar Azam century wins the game',\n",
       "       'Journalists protest censorship in Islamabad',\n",
       "       'Government to increase petrol price by Rs. 20',\n",
       "       'Counter-terrorism department arrests suspects',\n",
       "       'Quetta blast: ISPR releases statement',\n",
       "       'Pakistan seeks investment from Gulf countries',\n",
       "       'New talent emerges in under-19 cricket',\n",
       "       'Government launches CPEC project in Gwadar',\n",
       "       'Floods devastate Sindh villages',\n",
       "       'Khan addresses rally in Multan',\n",
       "       'Student unions demand restoration',\n",
       "       'Thousands displaced due to rains', 'CJ addresses bar association',\n",
       "       'Media freedom at risk, says HRCP report',\n",
       "       'University students protest fee hikes',\n",
       "       'Dollar hits 300 in open market',\n",
       "       'Aid for Balochistan still missing',\n",
       "       'Case adjourned till next week', 'Lawyers boycott proceedings',\n",
       "       'New universities to be established',\n",
       "       'Climate change worsening floods',\n",
       "       'New tax reforms spark debate in parliament',\n",
       "       'Relief camp set up in Multan', 'Digital media gaining popularity',\n",
       "       'Top court rejects NAB report',\n",
       "       'ARY anchor arrested in midnight raid',\n",
       "       'Punjab bans junk food in schools',\n",
       "       'International squash event begins in Islamabad',\n",
       "       'Matric exams leaked in Karachi',\n",
       "       'Terrorist attack in Quetta leaves 20 dead',\n",
       "       'TTP commander killed in operation',\n",
       "       'SC disqualifies minister in assets case',\n",
       "       'Ban on talkshows sparks outrage',\n",
       "       'Government announces new health policy',\n",
       "       'Vaccination drive faces shortage',\n",
       "       'Newspaper circulation declines',\n",
       "       'COVID resurfaces in Islamabad schools',\n",
       "       'PSL Final: Lahore Qalandars vs Karachi Kings',\n",
       "       'Private schools increase fees',\n",
       "       'Geo TV faces heavy fines by PEMRA'], dtype=object)"
      ]
     },
     "execution_count": 24,
     "metadata": {},
     "output_type": "execute_result"
    }
   ],
   "source": [
    "df[\"Headline\"].unique()"
   ]
  },
  {
   "cell_type": "code",
   "execution_count": 25,
   "id": "52ec6388-0617-4055-9a79-7fccfb441c05",
   "metadata": {},
   "outputs": [],
   "source": [
    "def get_topic(headline):\n",
    "    headline = headline.lower()\n",
    "\n",
    "    topics = {\n",
    "        'Sports': ['cricket', 'football', 'hockey', 'psl', 'match', 'beat', 'defeats', 'team', 'world cup', 'tournament', 'sports', 'babar azam'],\n",
    "        'Crime': ['attack', 'kill', 'murder', 'suicide', 'bomb', 'blast', 'arrest', 'raid', 'suspect', 'kidnap', 'theft', 'shooting'],\n",
    "        'Health': ['hospital', 'doctor', 'medicine', 'health', 'dengue', 'polio', 'covid', 'vaccination', 'virus', 'disease', 'shortage', 'mental'],\n",
    "        'Terrorism': ['terror', 'militant', 'ttp', 'bombing', 'waziristan', 'convoy', 'ispr', 'operation', 'blast'],\n",
    "        'Media': ['pemra', 'journalist', 'anchor', 'channel', 'media', 'editorial', 'news', 'censorship', 'talkshow', 'report'],\n",
    "        'Education': ['university', 'school', 'teacher', 'student', 'education', 'curriculum', 'exam', 'scholarship', 'hec'],\n",
    "        'Judiciary': ['court', 'judge', 'justice', 'cj', 'supreme court', 'high court', 'case', 'suo moto', 'lawyer', 'bar association'],\n",
    "        'Politics': ['pm', 'assembly', 'minister', 'senate', 'government', 'cabinet', 'opposition', 'election', 'party', 'politics', 'rally', 'pmln', 'ppp', 'khan'],\n",
    "        'Economy': ['budget', 'deficit', 'economy', 'imf', 'trade', 'stock', 'dollar', 'revenue', 'investment', 'exports', 'imports', 'tax', 'price', 'funds', 'remittance']\n",
    "    }\n",
    "\n",
    "    for topic, keywords in topics.items():\n",
    "        if any(word in headline for word in keywords):\n",
    "            return topic\n",
    "\n",
    "    return 'Other'"
   ]
  },
  {
   "cell_type": "code",
   "execution_count": 26,
   "id": "1929e5a3-f66f-421d-aa79-ede4cf25f954",
   "metadata": {},
   "outputs": [],
   "source": [
    "df[\"Topic\"] = df[\"Headline\"].apply(get_topic)"
   ]
  },
  {
   "cell_type": "markdown",
   "id": "a65b4570-7a8a-4d89-abab-9d79721ed227",
   "metadata": {},
   "source": [
    "## Ratings Cleaning"
   ]
  },
  {
   "cell_type": "code",
   "execution_count": 27,
   "id": "75a222f3-f340-44ce-aa2c-4844a2149ca7",
   "metadata": {},
   "outputs": [],
   "source": [
    "df[\"Ratings\"] = df[\"Ratings\"].clip(upper=100)"
   ]
  },
  {
   "cell_type": "markdown",
   "id": "c97d9288-bdb8-4d16-b86f-18a7644f62b8",
   "metadata": {},
   "source": [
    "## Airtime Cleaning"
   ]
  },
  {
   "cell_type": "code",
   "execution_count": 28,
   "id": "b4680c98-cae3-4c6e-b554-a760910c4fae",
   "metadata": {},
   "outputs": [
    {
     "data": {
      "text/plain": [
       "50      -22.0\n",
       "108      -5.0\n",
       "127     -17.0\n",
       "197     -26.0\n",
       "218     -18.0\n",
       "         ... \n",
       "14920    -4.0\n",
       "14929   -20.0\n",
       "14941   -28.0\n",
       "14944    -8.0\n",
       "14976   -15.0\n",
       "Name: Airtime, Length: 433, dtype: float64"
      ]
     },
     "execution_count": 28,
     "metadata": {},
     "output_type": "execute_result"
    }
   ],
   "source": [
    "df[\"Airtime\"][df[\"Airtime\"] < 0]"
   ]
  },
  {
   "cell_type": "code",
   "execution_count": 29,
   "id": "64bdde1b-d574-4dd3-aea7-a100f27120bc",
   "metadata": {},
   "outputs": [],
   "source": [
    "df[\"Airtime\"] = df[\"Airtime\"].clip(lower=0)"
   ]
  },
  {
   "cell_type": "code",
   "execution_count": 30,
   "id": "f1432ac6-1446-4d06-bd43-3d2f923eb283",
   "metadata": {},
   "outputs": [
    {
     "data": {
      "text/plain": [
       "Series([], Name: Airtime, dtype: float64)"
      ]
     },
     "execution_count": 30,
     "metadata": {},
     "output_type": "execute_result"
    }
   ],
   "source": [
    "df[\"Airtime\"][df[\"Airtime\"] < 0]"
   ]
  },
  {
   "cell_type": "code",
   "execution_count": 31,
   "id": "03b7a151-e1e6-4c74-9a2d-a546d6edcdf2",
   "metadata": {},
   "outputs": [
    {
     "data": {
      "text/plain": [
       "0         25.0\n",
       "2        223.0\n",
       "4        223.0\n",
       "7        117.0\n",
       "9        201.0\n",
       "         ...  \n",
       "14992    418.0\n",
       "14993    157.0\n",
       "14994    134.0\n",
       "14998    150.0\n",
       "14999    324.0\n",
       "Name: Airtime, Length: 7489, dtype: float64"
      ]
     },
     "execution_count": 31,
     "metadata": {},
     "output_type": "execute_result"
    }
   ],
   "source": [
    "df[\"Airtime\"][df[\"Airtime\"] >= 0]"
   ]
  },
  {
   "cell_type": "markdown",
   "id": "4fde2446-4596-4faf-a10d-f13293495b40",
   "metadata": {},
   "source": [
    "## Bias Score Cleaning"
   ]
  },
  {
   "cell_type": "code",
   "execution_count": 32,
   "id": "f09aa34b-12c8-42fc-bfca-9c8c9d802601",
   "metadata": {},
   "outputs": [
    {
     "data": {
      "text/plain": [
       "array([nan,  5.,  2., -1.,  4.,  1.,  3.,  0.])"
      ]
     },
     "execution_count": 32,
     "metadata": {},
     "output_type": "execute_result"
    }
   ],
   "source": [
    "df[\"BiasScore\"].unique()"
   ]
  },
  {
   "cell_type": "code",
   "execution_count": 33,
   "id": "fc35fdcb-1f0a-4cf7-876d-35197171c7e7",
   "metadata": {},
   "outputs": [],
   "source": [
    "df[\"BiasScore\"] = df[\"BiasScore\"].clip(lower=0, upper=10)"
   ]
  },
  {
   "cell_type": "code",
   "execution_count": 34,
   "id": "8da0ced8-08db-4778-be62-e8fb768b8edf",
   "metadata": {},
   "outputs": [
    {
     "data": {
      "text/plain": [
       "array([nan,  5.,  2.,  0.,  4.,  1.,  3.])"
      ]
     },
     "execution_count": 34,
     "metadata": {},
     "output_type": "execute_result"
    }
   ],
   "source": [
    "df[\"BiasScore\"].unique()"
   ]
  },
  {
   "cell_type": "markdown",
   "id": "790cfbd1-1dff-4549-a7af-c8c3513548eb",
   "metadata": {},
   "source": [
    "## Viewership Cleaning"
   ]
  },
  {
   "cell_type": "code",
   "execution_count": 35,
   "id": "e6d57dcb-ebd1-4218-b2f5-539bca91891a",
   "metadata": {},
   "outputs": [
    {
     "data": {
      "text/plain": [
       "min    1.047036e-01\n",
       "max    1.999177e+06\n",
       "Name: Viewership, dtype: float64"
      ]
     },
     "execution_count": 35,
     "metadata": {},
     "output_type": "execute_result"
    }
   ],
   "source": [
    "df[\"Viewership\"].agg([\"min\",\"max\"])"
   ]
  },
  {
   "cell_type": "code",
   "execution_count": 36,
   "id": "23fa31f6-a59b-47e1-b24b-c0c022fc33db",
   "metadata": {},
   "outputs": [],
   "source": [
    "def get_cleaned_viewership(f):\n",
    "    if np.isnan(f): return f\n",
    "\n",
    "    return int(f)\n",
    "\n",
    "df[\"Viewership\"] = df[\"Viewership\"].apply(get_cleaned_viewership)"
   ]
  },
  {
   "cell_type": "code",
   "execution_count": 37,
   "id": "22cd6495-8b15-4522-a26c-0fccb23543db",
   "metadata": {},
   "outputs": [
    {
     "data": {
      "text/plain": [
       "min          0.0\n",
       "max    1999177.0\n",
       "Name: Viewership, dtype: float64"
      ]
     },
     "execution_count": 37,
     "metadata": {},
     "output_type": "execute_result"
    }
   ],
   "source": [
    "df[\"Viewership\"].agg([\"min\",\"max\"])"
   ]
  },
  {
   "cell_type": "markdown",
   "id": "81b351f3-d424-4fec-9a47-8db8a4592a62",
   "metadata": {},
   "source": [
    "## Shares Cleaning"
   ]
  },
  {
   "cell_type": "code",
   "execution_count": 38,
   "id": "de6d3b58-36b3-4d29-a42d-e96e3beef57a",
   "metadata": {},
   "outputs": [
    {
     "data": {
      "text/plain": [
       "min       127.0\n",
       "max    199998.0\n",
       "Name: Shares, dtype: float64"
      ]
     },
     "execution_count": 38,
     "metadata": {},
     "output_type": "execute_result"
    }
   ],
   "source": [
    "df[\"Shares\"].agg([\"min\",\"max\"])"
   ]
  },
  {
   "cell_type": "code",
   "execution_count": 39,
   "id": "35b28bc1-8c38-4433-af65-06d014d0bcf9",
   "metadata": {},
   "outputs": [],
   "source": [
    "def get_cleaned_shares(f):\n",
    "    if np.isnan(f): return f\n",
    "\n",
    "    return int(f)\n",
    "\n",
    "df[\"Shares\"] = df[\"Shares\"].apply(get_cleaned_shares)"
   ]
  },
  {
   "cell_type": "code",
   "execution_count": 40,
   "id": "11c5c4d4-3626-4601-b1e9-148ef3934eb8",
   "metadata": {},
   "outputs": [
    {
     "data": {
      "text/plain": [
       "min       127.0\n",
       "max    199998.0\n",
       "Name: Shares, dtype: float64"
      ]
     },
     "execution_count": 40,
     "metadata": {},
     "output_type": "execute_result"
    }
   ],
   "source": [
    "df[\"Shares\"].agg([\"min\",\"max\"])"
   ]
  },
  {
   "cell_type": "markdown",
   "id": "e2a98117-8536-447e-a948-7ad09c0cb833",
   "metadata": {},
   "source": [
    "Technically there seems to be nothing to clean in this column"
   ]
  },
  {
   "cell_type": "markdown",
   "id": "e13b3c68-f657-4ddb-8b31-9ba96a0ad0b4",
   "metadata": {},
   "source": [
    "## Adspend Cleaning"
   ]
  },
  {
   "cell_type": "code",
   "execution_count": 41,
   "id": "e3c56bc5-b3cd-4429-a5c6-246f3bcf99e1",
   "metadata": {},
   "outputs": [
    {
     "data": {
      "text/plain": [
       "array(['4452987.876', '1 crore', '50 lakh', ..., '3539926.21',\n",
       "       '1291429.491', '3355467.497'], shape=(3746,), dtype=object)"
      ]
     },
     "execution_count": 41,
     "metadata": {},
     "output_type": "execute_result"
    }
   ],
   "source": [
    "df[\"AdSpend\"].unique()"
   ]
  },
  {
   "cell_type": "code",
   "execution_count": 42,
   "id": "585777b1-0b0f-4d5d-9c67-a82b0b78a537",
   "metadata": {},
   "outputs": [],
   "source": [
    "df[\"AdSpend\"] = df[\"AdSpend\"].apply(get_clean_revenue)"
   ]
  },
  {
   "cell_type": "code",
   "execution_count": 43,
   "id": "9fccbf60-1586-4a68-af38-3b902582d977",
   "metadata": {},
   "outputs": [
    {
     "data": {
      "text/plain": [
       "array([ 4452987.876, 10000000.   ,  5000000.   , ...,  3539926.21 ,\n",
       "        1291429.491,  3355467.497], shape=(3746,))"
      ]
     },
     "execution_count": 43,
     "metadata": {},
     "output_type": "execute_result"
    }
   ],
   "source": [
    "df[\"AdSpend\"].unique()"
   ]
  },
  {
   "cell_type": "markdown",
   "id": "a3b56055-ff72-4c00-bb68-029bd33bfac6",
   "metadata": {},
   "source": [
    "## Controversy Flag"
   ]
  },
  {
   "cell_type": "code",
   "execution_count": 44,
   "id": "45ad6c14-1535-47b9-a05a-df9c9d3fce7e",
   "metadata": {},
   "outputs": [
    {
     "data": {
      "text/plain": [
       "array(['No', '1', 'Yes', nan, '0'], dtype=object)"
      ]
     },
     "execution_count": 44,
     "metadata": {},
     "output_type": "execute_result"
    }
   ],
   "source": [
    "df[\"ControversyFlag\"].unique()"
   ]
  },
  {
   "cell_type": "code",
   "execution_count": 45,
   "id": "cff2381c-0127-4264-91c2-9d6ddf7b5510",
   "metadata": {},
   "outputs": [],
   "source": [
    "controversy_flag_replacement_dict = { \"No\": False, \"1\": True, \"Yes\": True, \"0\": False }\n",
    "\n",
    "df[\"ControversyFlag\"] = df[\"ControversyFlag\"].replace(controversy_flag_replacement_dict)"
   ]
  },
  {
   "cell_type": "code",
   "execution_count": 47,
   "id": "fd42ff1c-53e5-4af5-b577-9b0572be3f43",
   "metadata": {},
   "outputs": [
    {
     "data": {
      "text/plain": [
       "array([False, True, nan], dtype=object)"
      ]
     },
     "execution_count": 47,
     "metadata": {},
     "output_type": "execute_result"
    }
   ],
   "source": [
    "df[\"ControversyFlag\"].unique()"
   ]
  },
  {
   "cell_type": "markdown",
   "id": "c8525f4d-c469-48e9-9b62-51ee7d830126",
   "metadata": {},
   "source": [
    "## SocialMediaInteractions Cleaning"
   ]
  },
  {
   "cell_type": "code",
   "execution_count": 63,
   "id": "33d4ab7a-aebf-4745-9dcc-9a0f62c4ef4b",
   "metadata": {},
   "outputs": [
    {
     "data": {
      "text/plain": [
       "min       103.000000\n",
       "max     49984.000000\n",
       "std     14361.148557\n",
       "mean    25044.750806\n",
       "Name: SocialMediaInteractions, dtype: float64"
      ]
     },
     "execution_count": 63,
     "metadata": {},
     "output_type": "execute_result"
    }
   ],
   "source": [
    "df[\"SocialMediaInteractions\"].agg([\"min\", \"max\", \"std\", \"mean\"])"
   ]
  },
  {
   "cell_type": "code",
   "execution_count": 64,
   "id": "f751ba1f-8ac7-420b-b708-948cb92e2571",
   "metadata": {},
   "outputs": [],
   "source": [
    "def get_cleaned_social_media_interactions(f):\n",
    "    if np.isnan(f): return f\n",
    "\n",
    "    return int(f)\n",
    "\n",
    "df[\"SocialMediaInteractions\"] = df[\"SocialMediaInteractions\"].apply(get_cleaned_social_media_interactions)"
   ]
  },
  {
   "cell_type": "code",
   "execution_count": 65,
   "id": "88047aea-b6c2-4873-a94d-18d19751e557",
   "metadata": {},
   "outputs": [
    {
     "data": {
      "text/plain": [
       "min       103.000000\n",
       "max     49984.000000\n",
       "std     14361.148557\n",
       "mean    25044.750806\n",
       "Name: SocialMediaInteractions, dtype: float64"
      ]
     },
     "execution_count": 65,
     "metadata": {},
     "output_type": "execute_result"
    }
   ],
   "source": [
    "df[\"SocialMediaInteractions\"].agg([\"min\", \"max\", \"std\", \"mean\"])"
   ]
  },
  {
   "cell_type": "code",
   "execution_count": null,
   "id": "cdd4e064-cbfb-46e3-8833-4ad8ccada03d",
   "metadata": {},
   "outputs": [],
   "source": []
  }
 ],
 "metadata": {
  "kernelspec": {
   "display_name": "Python 3 (ipykernel)",
   "language": "python",
   "name": "python3"
  },
  "language_info": {
   "codemirror_mode": {
    "name": "ipython",
    "version": 3
   },
   "file_extension": ".py",
   "mimetype": "text/x-python",
   "name": "python",
   "nbconvert_exporter": "python",
   "pygments_lexer": "ipython3",
   "version": "3.13.7"
  }
 },
 "nbformat": 4,
 "nbformat_minor": 5
}
