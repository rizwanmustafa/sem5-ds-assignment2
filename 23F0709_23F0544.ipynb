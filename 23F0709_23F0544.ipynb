{
 "cells": [
  {
   "cell_type": "code",
   "execution_count": null,
   "id": "eb6fbd42-b0a6-4cdd-9ed4-41ea3746b13a",
   "metadata": {},
   "outputs": [],
   "source": [
    "import pandas as pd\n",
    "import numpy as np"
   ]
  },
  {
   "cell_type": "code",
   "execution_count": null,
   "id": "8e7d84fc-9bb3-4338-a5d1-98bb8cafb91d",
   "metadata": {},
   "outputs": [],
   "source": [
    "raw_df = pd.read_csv('data/pakistan-media-dataset-synthetic.csv')"
   ]
  },
  {
   "cell_type": "code",
   "execution_count": null,
   "id": "d639ddda-e74f-43a6-9f01-ccf3c698d1c7",
   "metadata": {},
   "outputs": [],
   "source": [
    "df = raw_df.copy()"
   ]
  },
  {
   "cell_type": "markdown",
   "id": "d767d139-45a8-4e11-a5d4-c33ace1f22f4",
   "metadata": {},
   "source": [
    "# Clean Data"
   ]
  },
  {
   "cell_type": "code",
   "execution_count": null,
   "id": "1c251129-60b7-4355-b1d5-0905b8f80661",
   "metadata": {},
   "outputs": [],
   "source": [
    "df[[\"Region\", \"City\"]]"
   ]
  },
  {
   "cell_type": "markdown",
   "id": "e652746e-3fbb-4575-8bbf-3682cdc2a851",
   "metadata": {},
   "source": [
    "## Region-City Cleaning\n",
    "We can clearly see wrong regions associated with cities. Let's fix that"
   ]
  },
  {
   "cell_type": "code",
   "execution_count": null,
   "id": "e4d7b288-5365-4f38-9c5c-ac4bd33598b1",
   "metadata": {},
   "outputs": [],
   "source": [
    "# Let's print the unique cities\n",
    "df[\"City\"].unique()"
   ]
  },
  {
   "cell_type": "code",
   "execution_count": null,
   "id": "de9d1625-e9c6-4036-8729-4a301e9e2694",
   "metadata": {},
   "outputs": [],
   "source": [
    "# Let's print the unique regions\n",
    "df[\"Region\"].unique()"
   ]
  },
  {
   "cell_type": "code",
   "execution_count": null,
   "id": "a752f0b5-7680-4093-b2d3-82c6dbfd535d",
   "metadata": {},
   "outputs": [],
   "source": [
    "def get_region(city):\n",
    "    if city in [\"Multan\", \"Rawalpindi\", \"Lahore\"]: return \"Punjab\"\n",
    "    elif city in [\"Quetta\"]: return \"Balochistan\"\n",
    "    elif city in [\"Karachi\", \"Hyderabad\"]: return \"Sindh\"\n",
    "    elif city in [\"Peshawar\"]: return \"KPK\"\n",
    "    elif city in [\"Islamabad\"]: return \"Islamabad\"\n",
    "    else: return pd.NA\n",
    "\n",
    "df[\"Region\"] = df[\"City\"].apply(get_region)\n"
   ]
  },
  {
   "cell_type": "code",
   "execution_count": null,
   "id": "1e5ea8d8-dbcd-4e65-9320-afcad8874514",
   "metadata": {},
   "outputs": [],
   "source": [
    "df[[\"Region\", \"City\"]]"
   ]
  },
  {
   "cell_type": "markdown",
   "id": "fd234238-a087-4e49-9344-6d5e71bf267e",
   "metadata": {},
   "source": [
    "## Language Field Cleaning"
   ]
  },
  {
   "cell_type": "code",
   "execution_count": null,
   "id": "519b17d0-5f16-4b6f-9aa6-604b91d88e23",
   "metadata": {},
   "outputs": [],
   "source": [
    "df[\"Language\"].unique()"
   ]
  },
  {
   "cell_type": "code",
   "execution_count": null,
   "id": "935ffb06-cdcf-4b86-9cf2-6f24c6c63553",
   "metadata": {},
   "outputs": [],
   "source": [
    "lang_replacement_dict = { \"English\": \"en\", \"urdu\": \"ur\", \"Urdu\": \"ur\", \"ENG\": \"en\"}\n",
    "df[\"Language\"] = df[\"Language\"].replace(lang_replacement_dict)"
   ]
  },
  {
   "cell_type": "code",
   "execution_count": null,
   "id": "d34c4673-fc4e-488f-90de-df409d3f2d78",
   "metadata": {},
   "outputs": [],
   "source": [
    "df[\"Language\"].unique()"
   ]
  },
  {
   "cell_type": "markdown",
   "id": "32240a67-2de2-4fcd-9a2c-b24b8929c9a2",
   "metadata": {},
   "source": [
    "## Advertisement Revenue Cleaning"
   ]
  },
  {
   "cell_type": "markdown",
   "id": "2c0d5dbc-3306-4ea9-983e-8bc4a9b91152",
   "metadata": {},
   "source": [
    "### Fix Different Monetary Values"
   ]
  },
  {
   "cell_type": "code",
   "execution_count": null,
   "id": "ec21b5f4-660c-4791-9607-ad7fb2d31914",
   "metadata": {},
   "outputs": [],
   "source": [
    "def get_clean_revenue(d):\n",
    "    f = None\n",
    "\n",
    "    try:\n",
    "        f = float(d)\n",
    "        return f\n",
    "    except:\n",
    "        pass\n",
    "\n",
    "    value, value_multiplier = d.split(\" \")\n",
    "\n",
    "    if value_multiplier == \"lakh\": return float(value) * 100_000\n",
    "    elif value_multiplier == \"crore\": return float(value) * 10_000_000\n",
    "    elif value_multiplier == \"million\": return float(value) * 1_000_000\n",
    "    else: print(value_multiplier)"
   ]
  },
  {
   "cell_type": "code",
   "execution_count": null,
   "id": "8f477daf-1e28-48f7-8724-85382b0cfd94",
   "metadata": {},
   "outputs": [],
   "source": [
    "df[\"Revenue\"] = df[\"Revenue\"].apply(get_clean_revenue)"
   ]
  },
  {
   "cell_type": "markdown",
   "id": "f746e719-9658-4708-85d2-fee58ce10adc",
   "metadata": {},
   "source": [
    "### Fix negative revenue"
   ]
  },
  {
   "cell_type": "code",
   "execution_count": null,
   "id": "730b55b0-7bdd-4032-a397-d8fc0eb826a6",
   "metadata": {},
   "outputs": [],
   "source": [
    "df[\"Revenue\"] = pd.to_numeric(df['Revenue'], errors=\"coerce\").clip(lower=0)"
   ]
  },
  {
   "cell_type": "markdown",
   "id": "1a0e1cbb-ad0b-4943-a313-110c02b1609e",
   "metadata": {},
   "source": [
    "## Journalist Cleaning"
   ]
  },
  {
   "cell_type": "code",
   "execution_count": null,
   "id": "444a3114-5df1-42a0-bd4e-5f2eba0108d7",
   "metadata": {},
   "outputs": [],
   "source": [
    "df[\"Journalist\"].unique()\n"
   ]
  },
  {
   "cell_type": "code",
   "execution_count": null,
   "id": "79b1d886-6e67-4bf8-b3f2-975cc530d5b4",
   "metadata": {},
   "outputs": [],
   "source": [
    "journalist_replacement_dict = { \"RAUF KLASSRA\": \"Rauf Klasra\", \"Mohsin Raza Khan\": \"Mohsin Raza\", \"K. Khan\": \"Kamran Khan\", \"shahzeb khanzada\": \"Shahzeb Khanzada\" }\n",
    "df[\"Journalist\"] = df[\"Journalist\"].replace(journalist_replacement_dict)"
   ]
  },
  {
   "cell_type": "code",
   "execution_count": null,
   "id": "47a74a58-4273-4fc5-a505-4101a0a5f7b0",
   "metadata": {},
   "outputs": [],
   "source": [
    "df[\"Journalist\"].unique()"
   ]
  },
  {
   "cell_type": "code",
   "execution_count": null,
   "id": "041a217b-02d0-4791-8081-4cc2c18d1471",
   "metadata": {},
   "outputs": [],
   "source": [
    "df[\"Journalist\"] = df[\"Journalist\"].str.title()"
   ]
  },
  {
   "cell_type": "code",
   "execution_count": null,
   "id": "a41cc7f3-b406-4454-847c-c2c424212bd7",
   "metadata": {},
   "outputs": [],
   "source": [
    "df[\"Journalist\"].unique()"
   ]
  },
  {
   "cell_type": "markdown",
   "id": "8de0bdb3-7a34-4ae5-b67d-0151de200c87",
   "metadata": {},
   "source": [
    "## Channel Cleaning"
   ]
  },
  {
   "cell_type": "code",
   "execution_count": null,
   "id": "8987de56-7fb8-46e0-9d00-bee3de6cec99",
   "metadata": {},
   "outputs": [],
   "source": [
    "df[\"Channel\"].unique()"
   ]
  },
  {
   "cell_type": "code",
   "execution_count": null,
   "id": "528864eb-dc0c-4ee3-9350-37d4a5b3f0b2",
   "metadata": {},
   "outputs": [],
   "source": [
    "channel_replacement_dict = {\"ARYNEWS\": \"ARY News\", \"Samaa\": \"SAMAA TV\", \"DawnNews\": \"DAWN\", \"geo\": \"Geo News\", \"AbbTakk News\": \"Abb Takk News\", \"hum news\": \"HUM News\", \"Geo\": \"Geo News\", \"Express-News\": \"Express News\", \"GEO NEWS\": \"Geo News\", \"ARYNEWS\": \"ARY News\", \"ary\": \"ARY News\", \"Express\": \"Express News\", \"ARY\": \"ARY News\"}\n",
    "df[\"Channel\"] = df[\"Channel\"].replace(channel_replacement_dict)"
   ]
  },
  {
   "cell_type": "code",
   "execution_count": null,
   "id": "3c47528e-a1ed-4921-8184-b6774a90aaf2",
   "metadata": {},
   "outputs": [],
   "source": [
    "df[\"Channel\"].unique()"
   ]
  },
  {
   "cell_type": "markdown",
   "id": "d4419a8e-3bb8-45ce-a03d-59f076d2c10c",
   "metadata": {},
   "source": [
    "## Topic & Headline Cleaning"
   ]
  },
  {
   "cell_type": "code",
   "execution_count": null,
   "id": "fd79795c-c2fc-48d9-a408-86393803cbed",
   "metadata": {},
   "outputs": [],
   "source": [
    "df[\"Topic\"].unique()"
   ]
  },
  {
   "cell_type": "code",
   "execution_count": null,
   "id": "ff3d5a3a-6b8f-448f-b060-eb5b53ac4ec1",
   "metadata": {},
   "outputs": [],
   "source": [
    "df[\"Headline\"].unique()"
   ]
  },
  {
   "cell_type": "code",
   "execution_count": null,
   "id": "52ec6388-0617-4055-9a79-7fccfb441c05",
   "metadata": {},
   "outputs": [],
   "source": [
    "def get_topic(headline):\n",
    "    headline = headline.lower()\n",
    "\n",
    "    topics = {\n",
    "        'Sports': ['cricket', 'football', 'hockey', 'psl', 'match', 'beat', 'defeats', 'team', 'world cup', 'tournament', 'sports', 'babar azam'],\n",
    "        'Crime': ['attack', 'kill', 'murder', 'suicide', 'bomb', 'blast', 'arrest', 'raid', 'suspect', 'kidnap', 'theft', 'shooting'],\n",
    "        'Health': ['hospital', 'doctor', 'medicine', 'health', 'dengue', 'polio', 'covid', 'vaccination', 'virus', 'disease', 'shortage', 'mental'],\n",
    "        'Terrorism': ['terror', 'militant', 'ttp', 'bombing', 'waziristan', 'convoy', 'ispr', 'operation', 'blast'],\n",
    "        'Media': ['pemra', 'journalist', 'anchor', 'channel', 'media', 'editorial', 'news', 'censorship', 'talkshow', 'report'],\n",
    "        'Education': ['university', 'school', 'teacher', 'student', 'education', 'curriculum', 'exam', 'scholarship', 'hec'],\n",
    "        'Judiciary': ['court', 'judge', 'justice', 'cj', 'supreme court', 'high court', 'case', 'suo moto', 'lawyer', 'bar association'],\n",
    "        'Politics': ['pm', 'assembly', 'minister', 'senate', 'government', 'cabinet', 'opposition', 'election', 'party', 'politics', 'rally', 'pmln', 'ppp', 'khan'],\n",
    "        'Economy': ['budget', 'deficit', 'economy', 'imf', 'trade', 'stock', 'dollar', 'revenue', 'investment', 'exports', 'imports', 'tax', 'price', 'funds', 'remittance']\n",
    "    }\n",
    "\n",
    "    for topic, keywords in topics.items():\n",
    "        if any(word in headline for word in keywords):\n",
    "            return topic\n",
    "\n",
    "    return 'Other'"
   ]
  },
  {
   "cell_type": "code",
   "execution_count": null,
   "id": "1929e5a3-f66f-421d-aa79-ede4cf25f954",
   "metadata": {},
   "outputs": [],
   "source": [
    "df[\"Topic\"] = df[\"Headline\"].apply(get_topic)"
   ]
  },
  {
   "cell_type": "markdown",
   "id": "a65b4570-7a8a-4d89-abab-9d79721ed227",
   "metadata": {},
   "source": [
    "## Ratings Cleaning"
   ]
  },
  {
   "cell_type": "code",
   "execution_count": null,
   "id": "75a222f3-f340-44ce-aa2c-4844a2149ca7",
   "metadata": {},
   "outputs": [],
   "source": [
    "df[\"Ratings\"] = df[\"Ratings\"].clip(upper=100)"
   ]
  },
  {
   "cell_type": "markdown",
   "id": "c97d9288-bdb8-4d16-b86f-18a7644f62b8",
   "metadata": {},
   "source": [
    "## Airtime Cleaning"
   ]
  },
  {
   "cell_type": "code",
   "execution_count": null,
   "id": "b4680c98-cae3-4c6e-b554-a760910c4fae",
   "metadata": {},
   "outputs": [],
   "source": [
    "df[\"Airtime\"][df[\"Airtime\"] < 0]"
   ]
  },
  {
   "cell_type": "code",
   "execution_count": null,
   "id": "64bdde1b-d574-4dd3-aea7-a100f27120bc",
   "metadata": {},
   "outputs": [],
   "source": [
    "df[\"Airtime\"] = df[\"Airtime\"].clip(lower=0)"
   ]
  },
  {
   "cell_type": "code",
   "execution_count": null,
   "id": "f1432ac6-1446-4d06-bd43-3d2f923eb283",
   "metadata": {},
   "outputs": [],
   "source": [
    "df[\"Airtime\"][df[\"Airtime\"] < 0]"
   ]
  },
  {
   "cell_type": "code",
   "execution_count": null,
   "id": "03b7a151-e1e6-4c74-9a2d-a546d6edcdf2",
   "metadata": {},
   "outputs": [],
   "source": [
    "df[\"Airtime\"][df[\"Airtime\"] >= 0]"
   ]
  },
  {
   "cell_type": "markdown",
   "id": "4fde2446-4596-4faf-a10d-f13293495b40",
   "metadata": {},
   "source": [
    "## Bias Score Cleaning"
   ]
  },
  {
   "cell_type": "code",
   "execution_count": null,
   "id": "f09aa34b-12c8-42fc-bfca-9c8c9d802601",
   "metadata": {},
   "outputs": [],
   "source": [
    "df[\"BiasScore\"].unique()"
   ]
  },
  {
   "cell_type": "code",
   "execution_count": null,
   "id": "fc35fdcb-1f0a-4cf7-876d-35197171c7e7",
   "metadata": {},
   "outputs": [],
   "source": [
    "df[\"BiasScore\"] = df[\"BiasScore\"].clip(lower=0, upper=10)"
   ]
  },
  {
   "cell_type": "code",
   "execution_count": null,
   "id": "8da0ced8-08db-4778-be62-e8fb768b8edf",
   "metadata": {},
   "outputs": [],
   "source": [
    "df[\"BiasScore\"].unique()"
   ]
  },
  {
   "cell_type": "markdown",
   "id": "790cfbd1-1dff-4549-a7af-c8c3513548eb",
   "metadata": {},
   "source": [
    "## Viewership Cleaning"
   ]
  },
  {
   "cell_type": "code",
   "execution_count": null,
   "id": "e6d57dcb-ebd1-4218-b2f5-539bca91891a",
   "metadata": {},
   "outputs": [],
   "source": [
    "df[\"Viewership\"].agg([\"min\",\"max\"])"
   ]
  },
  {
   "cell_type": "code",
   "execution_count": null,
   "id": "23fa31f6-a59b-47e1-b24b-c0c022fc33db",
   "metadata": {},
   "outputs": [],
   "source": [
    "def get_cleaned_viewership(f):\n",
    "    if np.isnan(f): return f\n",
    "\n",
    "    return int(f)\n",
    "\n",
    "df[\"Viewership\"] = df[\"Viewership\"].apply(get_cleaned_viewership)"
   ]
  },
  {
   "cell_type": "code",
   "execution_count": null,
   "id": "22cd6495-8b15-4522-a26c-0fccb23543db",
   "metadata": {},
   "outputs": [],
   "source": [
    "df[\"Viewership\"].agg([\"min\",\"max\"])"
   ]
  },
  {
   "cell_type": "markdown",
   "id": "81b351f3-d424-4fec-9a47-8db8a4592a62",
   "metadata": {},
   "source": [
    "## Shares Cleaning"
   ]
  },
  {
   "cell_type": "code",
   "execution_count": null,
   "id": "de6d3b58-36b3-4d29-a42d-e96e3beef57a",
   "metadata": {},
   "outputs": [],
   "source": [
    "df[\"Shares\"].agg([\"min\",\"max\"])"
   ]
  },
  {
   "cell_type": "code",
   "execution_count": null,
   "id": "35b28bc1-8c38-4433-af65-06d014d0bcf9",
   "metadata": {},
   "outputs": [],
   "source": [
    "def get_cleaned_shares(f):\n",
    "    if np.isnan(f): return f\n",
    "\n",
    "    return int(f)\n",
    "\n",
    "df[\"Shares\"] = df[\"Shares\"].apply(get_cleaned_shares)"
   ]
  },
  {
   "cell_type": "code",
   "execution_count": null,
   "id": "11c5c4d4-3626-4601-b1e9-148ef3934eb8",
   "metadata": {},
   "outputs": [],
   "source": [
    "df[\"Shares\"].agg([\"min\",\"max\"])"
   ]
  },
  {
   "cell_type": "markdown",
   "id": "e2a98117-8536-447e-a948-7ad09c0cb833",
   "metadata": {},
   "source": [
    "Technically there seems to be nothing to clean in this column"
   ]
  },
  {
   "cell_type": "markdown",
   "id": "e13b3c68-f657-4ddb-8b31-9ba96a0ad0b4",
   "metadata": {},
   "source": [
    "## Adspend Cleaning"
   ]
  },
  {
   "cell_type": "code",
   "execution_count": null,
   "id": "e3c56bc5-b3cd-4429-a5c6-246f3bcf99e1",
   "metadata": {},
   "outputs": [],
   "source": [
    "df[\"AdSpend\"].unique()"
   ]
  },
  {
   "cell_type": "code",
   "execution_count": null,
   "id": "585777b1-0b0f-4d5d-9c67-a82b0b78a537",
   "metadata": {},
   "outputs": [],
   "source": [
    "df[\"AdSpend\"] = df[\"AdSpend\"].apply(get_clean_revenue)"
   ]
  },
  {
   "cell_type": "code",
   "execution_count": null,
   "id": "9fccbf60-1586-4a68-af38-3b902582d977",
   "metadata": {},
   "outputs": [],
   "source": [
    "df[\"AdSpend\"].unique()"
   ]
  },
  {
   "cell_type": "markdown",
   "id": "a3b56055-ff72-4c00-bb68-029bd33bfac6",
   "metadata": {},
   "source": [
    "## Controversy Flag"
   ]
  },
  {
   "cell_type": "code",
   "execution_count": null,
   "id": "45ad6c14-1535-47b9-a05a-df9c9d3fce7e",
   "metadata": {},
   "outputs": [],
   "source": [
    "df[\"ControversyFlag\"].unique()"
   ]
  },
  {
   "cell_type": "code",
   "execution_count": null,
   "id": "cff2381c-0127-4264-91c2-9d6ddf7b5510",
   "metadata": {},
   "outputs": [],
   "source": [
    "controversy_flag_replacement_dict = { \"No\": False, \"1\": True, \"Yes\": True, \"0\": False }\n",
    "\n",
    "df[\"ControversyFlag\"] = df[\"ControversyFlag\"].replace(controversy_flag_replacement_dict)"
   ]
  },
  {
   "cell_type": "code",
   "execution_count": null,
   "id": "fd42ff1c-53e5-4af5-b577-9b0572be3f43",
   "metadata": {},
   "outputs": [],
   "source": [
    "df[\"ControversyFlag\"].unique()"
   ]
  },
  {
   "cell_type": "markdown",
   "id": "c8525f4d-c469-48e9-9b62-51ee7d830126",
   "metadata": {},
   "source": [
    "## SocialMediaInteractions Cleaning"
   ]
  },
  {
   "cell_type": "code",
   "execution_count": null,
   "id": "33d4ab7a-aebf-4745-9dcc-9a0f62c4ef4b",
   "metadata": {},
   "outputs": [],
   "source": [
    "df[\"SocialMediaInteractions\"].agg([\"min\", \"max\", \"std\", \"mean\"])"
   ]
  },
  {
   "cell_type": "code",
   "execution_count": null,
   "id": "f751ba1f-8ac7-420b-b708-948cb92e2571",
   "metadata": {},
   "outputs": [],
   "source": [
    "def get_cleaned_social_media_interactions(f):\n",
    "    if np.isnan(f): return f\n",
    "\n",
    "    return int(f)\n",
    "\n",
    "df[\"SocialMediaInteractions\"] = df[\"SocialMediaInteractions\"].apply(get_cleaned_social_media_interactions)"
   ]
  },
  {
   "cell_type": "code",
   "execution_count": null,
   "id": "88047aea-b6c2-4873-a94d-18d19751e557",
   "metadata": {},
   "outputs": [],
   "source": [
    "df[\"SocialMediaInteractions\"].agg([\"min\", \"max\", \"std\", \"mean\"])"
   ]
  },
  {
   "cell_type": "markdown",
   "id": "4e5a24be-4199-495a-8544-0bdcbb75851a",
   "metadata": {},
   "source": [
    "## Handling Missing Values"
   ]
  },
  {
   "cell_type": "code",
   "execution_count": null,
   "id": "17fe6ce7-0894-40b1-92b2-54fb98de26d5",
   "metadata": {},
   "outputs": [],
   "source": [
    "percent_missing = df.select_dtypes(include='number').isna().mean() * 100\n",
    "print(percent_missing)"
   ]
  },
  {
   "cell_type": "code",
   "execution_count": null,
   "id": "58206111-1260-42b1-b799-e198fe7755e7",
   "metadata": {},
   "outputs": [],
   "source": [
    "df = df.apply(lambda col: col.fillna(col.median()) if np.issubdtype(col.dtype, np.number) else col)"
   ]
  },
  {
   "cell_type": "code",
   "execution_count": null,
   "id": "3e8ae90a-8d3b-4a11-aef1-ce62bba2f16b",
   "metadata": {},
   "outputs": [],
   "source": [
    "percent_missing = df.select_dtypes(include='number').isna().mean() * 100\n",
    "print(percent_missing)"
   ]
  },
  {
   "cell_type": "markdown",
   "id": "43ae86bb-15bd-4766-ab41-f6affb631488",
   "metadata": {},
   "source": [
    "# Descriptive Statistics & Plotting"
   ]
  },
  {
   "cell_type": "code",
   "execution_count": null,
   "id": "d91e6a08-bd48-42cf-871a-4c654c5dbac7",
   "metadata": {},
   "outputs": [],
   "source": [
    "import seaborn as sns\n",
    "import matplotlib.pyplot as plt\n",
    "\n",
    "numeric_df = df.select_dtypes(include='number')\n",
    "\n",
    "desc_stats = numeric_df.describe().T[['mean', '50%', 'std', 'min', 'max']]\n",
    "desc_stats.rename(columns={'50%': 'median'}, inplace=True)\n",
    "desc_stats['variance'] = numeric_df.var()\n",
    "print(\"----- Descriptive Statistics -----\")\n",
    "print(desc_stats)\n",
    "\n",
    "ignore_columns = [\"ID\", \"MissingDataFlag\"]\n",
    "\n",
    "for col in numeric_df.columns:\n",
    "    if col in ignore_columns: continue\n",
    "    plt.figure(figsize=(6, 3))\n",
    "    sns.boxplot(x=numeric_df[col])\n",
    "    plt.title(f\"Boxplot of {col}\")\n",
    "    plt.tight_layout()\n",
    "    plt.show()"
   ]
  },
  {
   "cell_type": "markdown",
   "id": "17b1376a-8158-4ccc-ac87-aa1d8790888f",
   "metadata": {},
   "source": [
    "# Investigations"
   ]
  },
  {
   "cell_type": "code",
   "execution_count": null,
   "id": "db0b482c-3e10-410f-a347-9c62823b0594",
   "metadata": {},
   "outputs": [],
   "source": [
    "df.dtypes"
   ]
  },
  {
   "cell_type": "code",
   "execution_count": null,
   "id": "022a5671-c552-422e-9d21-b9b4e14abb1b",
   "metadata": {},
   "outputs": [],
   "source": [
    "df"
   ]
  },
  {
   "cell_type": "code",
   "execution_count": null,
   "id": "560a4d3e-9f18-4db9-affe-89ffa0b0fa86",
   "metadata": {},
   "outputs": [],
   "source": [
    "df[\"PoliticalAffiliation\"].isna().sum()"
   ]
  },
  {
   "cell_type": "code",
   "execution_count": null,
   "id": "99f322ab-f2fc-4b21-9f2b-29c36141b247",
   "metadata": {},
   "outputs": [],
   "source": [
    "import numpy as np\n",
    "import pandas as pd\n",
    "import seaborn as sns\n",
    "import matplotlib.pyplot as plt\n",
    "from scipy import stats\n",
    "\n",
    "df['Date'] = pd.to_datetime(df['Date'], errors='coerce')\n",
    "df_aff = df.dropna(subset=['PoliticalAffiliation']).copy()\n",
    "\n",
    "preferred = ['Ratings', 'Revenue', 'Airtime', 'BiasScore', 'Viewership', 'AdSpend', 'Shares', 'SocialMediaInteractions']\n",
    "\n",
    "available_metrics = [c for c in preferred if c in df_aff.columns]\n",
    "print(\"Available metrics used:\", available_metrics)\n",
    "\n",
    "group_stats = df_aff.groupby('PoliticalAffiliation')[available_metrics].mean().round(3)\n",
    "print(\"\\n===== Group means by PoliticalAffiliation =====\")\n",
    "print(group_stats)\n",
    "\n",
    "for col in available_metrics:\n",
    "    plt.figure(figsize=(6, 3.5))\n",
    "    sns.boxplot(x=df_aff[col], showfliers=True)\n",
    "    sns.stripplot(x=df_aff[col], color='0.3', size=3, alpha=0.4)\n",
    "    plt.title(f\"Boxplot: {col}\")\n",
    "    plt.tight_layout()\n",
    "    plt.show()\n",
    "\n",
    "    plt.figure(figsize=(6, 3.5))\n",
    "    sns.boxplot(x=df_aff[col], showfliers=False)\n",
    "    sns.stripplot(x=df_aff[col], color='0.3', size=3, alpha=0.4)\n",
    "    plt.title(f\"Boxplot: {col} (No Fliers)\")\n",
    "    plt.tight_layout()\n",
    "    plt.show()\n",
    "\n",
    "for col in ['Revenue', 'Ratings', 'Airtime', 'Viewership']:\n",
    "    if col in df_aff.columns:\n",
    "        plt.figure(figsize=(7, 4))\n",
    "        sns.boxplot(data=df_aff, x='PoliticalAffiliation', y=col, showfliers=True)\n",
    "        plt.title(f\"{col} by PoliticalAffiliation\")\n",
    "        plt.tight_layout()\n",
    "        plt.show()\n",
    "\n",
    "        plt.figure(figsize=(7, 4))\n",
    "        sns.boxplot(data=df_aff, x='PoliticalAffiliation', y=col, showfliers=False)\n",
    "        plt.title(f\"{col} by PoliticalAffiliation (No Fliers)\")\n",
    "        plt.tight_layout()\n",
    "        plt.show()"
   ]
  },
  {
   "cell_type": "code",
   "execution_count": null,
   "id": "a5a7cf27-979a-4677-8598-0efab6e4e6e3",
   "metadata": {},
   "outputs": [],
   "source": [
    "n_missing = df['PoliticalAffiliation'].isna().sum()\n",
    "pct_missing = df['PoliticalAffiliation'].isna().mean() * 100\n",
    "print(f\"Missing: {n_missing} rows ({pct_missing:.1f}%)\")\n",
    "\n",
    "print(\"\\nMissing by Channel (top 20):\")\n",
    "print(df[df['PoliticalAffiliation'].isna()].groupby('Channel').size().sort_values(ascending=False).head(20))\n",
    "\n",
    "print(\"\\nMissing by Journalist (top 20):\")\n",
    "print(df[df['PoliticalAffiliation'].isna()].groupby('Journalist').size().sort_values(ascending=False).head(20))\n",
    "\n",
    "print(\"\\nMissing by Topic (top 20):\")\n",
    "print(df[df['PoliticalAffiliation'].isna()].groupby('Topic').size().sort_values(ascending=False).head(20))\n"
   ]
  },
  {
   "cell_type": "markdown",
   "id": "3bbfc64e-8fe4-4de1-8064-0e8ab1fcafc1",
   "metadata": {},
   "source": [
    "# Conclusion"
   ]
  },
  {
   "cell_type": "markdown",
   "id": "e118d415-54aa-4bbe-a111-ee3ef44c620e",
   "metadata": {},
   "source": [
    "The conclusions from the dataset show that there is no media bias in Pakistan. However, with the amount of errors and missing values in the data, it is difficult to say if we can trust this conclusion. To achieve further clarity, a new dataset should be created with proper data entry and ensuring no missing fields exist."
   ]
  }
 ],
 "metadata": {
  "kernelspec": {
   "display_name": "Python 3 (ipykernel)",
   "language": "python",
   "name": "python3"
  },
  "language_info": {
   "codemirror_mode": {
    "name": "ipython",
    "version": 3
   },
   "file_extension": ".py",
   "mimetype": "text/x-python",
   "name": "python",
   "nbconvert_exporter": "python",
   "pygments_lexer": "ipython3",
   "version": "3.13.7"
  }
 },
 "nbformat": 4,
 "nbformat_minor": 5
}
