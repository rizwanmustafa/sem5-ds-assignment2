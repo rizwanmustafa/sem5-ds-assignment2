{
 "cells": [
  {
   "cell_type": "code",
   "execution_count": 15,
   "id": "eb6fbd42-b0a6-4cdd-9ed4-41ea3746b13a",
   "metadata": {},
   "outputs": [],
   "source": [
    "import pandas as pd\n",
    "import numpy as np"
   ]
  },
  {
   "cell_type": "code",
   "execution_count": 2,
   "id": "8e7d84fc-9bb3-4338-a5d1-98bb8cafb91d",
   "metadata": {},
   "outputs": [],
   "source": [
    "raw_df = pd.read_csv('data/pakistan-media-dataset-synthetic.csv')"
   ]
  },
  {
   "cell_type": "code",
   "execution_count": 3,
   "id": "d639ddda-e74f-43a6-9f01-ccf3c698d1c7",
   "metadata": {},
   "outputs": [],
   "source": [
    "df = raw_df.copy()"
   ]
  },
  {
   "cell_type": "markdown",
   "id": "d767d139-45a8-4e11-a5d4-c33ace1f22f4",
   "metadata": {},
   "source": [
    "# Clean Data"
   ]
  },
  {
   "cell_type": "code",
   "execution_count": 4,
   "id": "1c251129-60b7-4355-b1d5-0905b8f80661",
   "metadata": {},
   "outputs": [
    {
     "data": {
      "text/html": [
       "<div>\n",
       "<style scoped>\n",
       "    .dataframe tbody tr th:only-of-type {\n",
       "        vertical-align: middle;\n",
       "    }\n",
       "\n",
       "    .dataframe tbody tr th {\n",
       "        vertical-align: top;\n",
       "    }\n",
       "\n",
       "    .dataframe thead th {\n",
       "        text-align: right;\n",
       "    }\n",
       "</style>\n",
       "<table border=\"1\" class=\"dataframe\">\n",
       "  <thead>\n",
       "    <tr style=\"text-align: right;\">\n",
       "      <th></th>\n",
       "      <th>Region</th>\n",
       "      <th>City</th>\n",
       "    </tr>\n",
       "  </thead>\n",
       "  <tbody>\n",
       "    <tr>\n",
       "      <th>0</th>\n",
       "      <td>Islamabad</td>\n",
       "      <td>Multan</td>\n",
       "    </tr>\n",
       "    <tr>\n",
       "      <th>1</th>\n",
       "      <td>Sindh</td>\n",
       "      <td>Quetta</td>\n",
       "    </tr>\n",
       "    <tr>\n",
       "      <th>2</th>\n",
       "      <td>Sindh</td>\n",
       "      <td>Rawalpindi</td>\n",
       "    </tr>\n",
       "    <tr>\n",
       "      <th>3</th>\n",
       "      <td>Islamabad</td>\n",
       "      <td>Multan</td>\n",
       "    </tr>\n",
       "    <tr>\n",
       "      <th>4</th>\n",
       "      <td>Sindh</td>\n",
       "      <td>Karachi</td>\n",
       "    </tr>\n",
       "    <tr>\n",
       "      <th>...</th>\n",
       "      <td>...</td>\n",
       "      <td>...</td>\n",
       "    </tr>\n",
       "    <tr>\n",
       "      <th>14995</th>\n",
       "      <td>KPK</td>\n",
       "      <td>Karachi</td>\n",
       "    </tr>\n",
       "    <tr>\n",
       "      <th>14996</th>\n",
       "      <td>Punjab</td>\n",
       "      <td>Quetta</td>\n",
       "    </tr>\n",
       "    <tr>\n",
       "      <th>14997</th>\n",
       "      <td>Islamabad</td>\n",
       "      <td>Peshawar</td>\n",
       "    </tr>\n",
       "    <tr>\n",
       "      <th>14998</th>\n",
       "      <td>Sindh</td>\n",
       "      <td>Multan</td>\n",
       "    </tr>\n",
       "    <tr>\n",
       "      <th>14999</th>\n",
       "      <td>KPK</td>\n",
       "      <td>Karachi</td>\n",
       "    </tr>\n",
       "  </tbody>\n",
       "</table>\n",
       "<p>15000 rows × 2 columns</p>\n",
       "</div>"
      ],
      "text/plain": [
       "          Region        City\n",
       "0      Islamabad      Multan\n",
       "1          Sindh      Quetta\n",
       "2          Sindh  Rawalpindi\n",
       "3      Islamabad      Multan\n",
       "4          Sindh     Karachi\n",
       "...          ...         ...\n",
       "14995        KPK     Karachi\n",
       "14996     Punjab      Quetta\n",
       "14997  Islamabad    Peshawar\n",
       "14998      Sindh      Multan\n",
       "14999        KPK     Karachi\n",
       "\n",
       "[15000 rows x 2 columns]"
      ]
     },
     "execution_count": 4,
     "metadata": {},
     "output_type": "execute_result"
    }
   ],
   "source": [
    "df[[\"Region\", \"City\"]]"
   ]
  },
  {
   "cell_type": "markdown",
   "id": "e652746e-3fbb-4575-8bbf-3682cdc2a851",
   "metadata": {},
   "source": [
    "## Region-City Cleaning\n",
    "We can clearly see wrong regions associated with cities. Let's fix that"
   ]
  },
  {
   "cell_type": "code",
   "execution_count": 5,
   "id": "e4d7b288-5365-4f38-9c5c-ac4bd33598b1",
   "metadata": {},
   "outputs": [
    {
     "data": {
      "text/plain": [
       "array(['Multan', 'Quetta', 'Rawalpindi', 'Karachi', 'Peshawar',\n",
       "       'Islamabad', 'Lahore', 'Hyderabad'], dtype=object)"
      ]
     },
     "execution_count": 5,
     "metadata": {},
     "output_type": "execute_result"
    }
   ],
   "source": [
    "# Let's print the unique cities\n",
    "df[\"City\"].unique()"
   ]
  },
  {
   "cell_type": "code",
   "execution_count": 6,
   "id": "de9d1625-e9c6-4036-8729-4a301e9e2694",
   "metadata": {},
   "outputs": [
    {
     "data": {
      "text/plain": [
       "array(['Islamabad', 'Sindh', 'Balochistan', 'KPK', 'Punjab', 'AJK'],\n",
       "      dtype=object)"
      ]
     },
     "execution_count": 6,
     "metadata": {},
     "output_type": "execute_result"
    }
   ],
   "source": [
    "# Let's print the unique regions\n",
    "df[\"Region\"].unique()"
   ]
  },
  {
   "cell_type": "code",
   "execution_count": 7,
   "id": "a752f0b5-7680-4093-b2d3-82c6dbfd535d",
   "metadata": {},
   "outputs": [],
   "source": [
    "def get_region(city):\n",
    "    if city in [\"Multan\", \"Rawalpindi\", \"Lahore\"]: return \"Punjab\"\n",
    "    elif city in [\"Quetta\"]: return \"Balochistan\"\n",
    "    elif city in [\"Karachi\", \"Hyderabad\"]: return \"Sindh\"\n",
    "    elif city in [\"Peshawar\"]: return \"KPK\"\n",
    "    elif city in [\"Islamabad\"]: return \"Islamabad\"\n",
    "    else: return pd.NA\n",
    "\n",
    "df[\"Region\"] = df[\"City\"].apply(get_region)\n"
   ]
  },
  {
   "cell_type": "code",
   "execution_count": 8,
   "id": "1e5ea8d8-dbcd-4e65-9320-afcad8874514",
   "metadata": {},
   "outputs": [
    {
     "data": {
      "text/html": [
       "<div>\n",
       "<style scoped>\n",
       "    .dataframe tbody tr th:only-of-type {\n",
       "        vertical-align: middle;\n",
       "    }\n",
       "\n",
       "    .dataframe tbody tr th {\n",
       "        vertical-align: top;\n",
       "    }\n",
       "\n",
       "    .dataframe thead th {\n",
       "        text-align: right;\n",
       "    }\n",
       "</style>\n",
       "<table border=\"1\" class=\"dataframe\">\n",
       "  <thead>\n",
       "    <tr style=\"text-align: right;\">\n",
       "      <th></th>\n",
       "      <th>Region</th>\n",
       "      <th>City</th>\n",
       "    </tr>\n",
       "  </thead>\n",
       "  <tbody>\n",
       "    <tr>\n",
       "      <th>0</th>\n",
       "      <td>Punjab</td>\n",
       "      <td>Multan</td>\n",
       "    </tr>\n",
       "    <tr>\n",
       "      <th>1</th>\n",
       "      <td>Balochistan</td>\n",
       "      <td>Quetta</td>\n",
       "    </tr>\n",
       "    <tr>\n",
       "      <th>2</th>\n",
       "      <td>Punjab</td>\n",
       "      <td>Rawalpindi</td>\n",
       "    </tr>\n",
       "    <tr>\n",
       "      <th>3</th>\n",
       "      <td>Punjab</td>\n",
       "      <td>Multan</td>\n",
       "    </tr>\n",
       "    <tr>\n",
       "      <th>4</th>\n",
       "      <td>Sindh</td>\n",
       "      <td>Karachi</td>\n",
       "    </tr>\n",
       "    <tr>\n",
       "      <th>...</th>\n",
       "      <td>...</td>\n",
       "      <td>...</td>\n",
       "    </tr>\n",
       "    <tr>\n",
       "      <th>14995</th>\n",
       "      <td>Sindh</td>\n",
       "      <td>Karachi</td>\n",
       "    </tr>\n",
       "    <tr>\n",
       "      <th>14996</th>\n",
       "      <td>Balochistan</td>\n",
       "      <td>Quetta</td>\n",
       "    </tr>\n",
       "    <tr>\n",
       "      <th>14997</th>\n",
       "      <td>KPK</td>\n",
       "      <td>Peshawar</td>\n",
       "    </tr>\n",
       "    <tr>\n",
       "      <th>14998</th>\n",
       "      <td>Punjab</td>\n",
       "      <td>Multan</td>\n",
       "    </tr>\n",
       "    <tr>\n",
       "      <th>14999</th>\n",
       "      <td>Sindh</td>\n",
       "      <td>Karachi</td>\n",
       "    </tr>\n",
       "  </tbody>\n",
       "</table>\n",
       "<p>15000 rows × 2 columns</p>\n",
       "</div>"
      ],
      "text/plain": [
       "            Region        City\n",
       "0           Punjab      Multan\n",
       "1      Balochistan      Quetta\n",
       "2           Punjab  Rawalpindi\n",
       "3           Punjab      Multan\n",
       "4            Sindh     Karachi\n",
       "...            ...         ...\n",
       "14995        Sindh     Karachi\n",
       "14996  Balochistan      Quetta\n",
       "14997          KPK    Peshawar\n",
       "14998       Punjab      Multan\n",
       "14999        Sindh     Karachi\n",
       "\n",
       "[15000 rows x 2 columns]"
      ]
     },
     "execution_count": 8,
     "metadata": {},
     "output_type": "execute_result"
    }
   ],
   "source": [
    "df[[\"Region\", \"City\"]]"
   ]
  },
  {
   "cell_type": "markdown",
   "id": "fd234238-a087-4e49-9344-6d5e71bf267e",
   "metadata": {},
   "source": [
    "## Language Field Cleaning"
   ]
  },
  {
   "cell_type": "code",
   "execution_count": 9,
   "id": "519b17d0-5f16-4b6f-9aa6-604b91d88e23",
   "metadata": {},
   "outputs": [
    {
     "data": {
      "text/plain": [
       "array(['English', 'urdu', 'Urdu', 'ENG', nan], dtype=object)"
      ]
     },
     "execution_count": 9,
     "metadata": {},
     "output_type": "execute_result"
    }
   ],
   "source": [
    "df[\"Language\"].unique()"
   ]
  },
  {
   "cell_type": "code",
   "execution_count": 10,
   "id": "935ffb06-cdcf-4b86-9cf2-6f24c6c63553",
   "metadata": {},
   "outputs": [],
   "source": [
    "lang_replacement_dict = { \"English\": \"en\", \"urdu\": \"ur\", \"Urdu\": \"ur\", \"ENG\": \"en\"}\n",
    "df[\"Language\"] = df[\"Language\"].replace(lang_replacement_dict)"
   ]
  },
  {
   "cell_type": "code",
   "execution_count": 17,
   "id": "d34c4673-fc4e-488f-90de-df409d3f2d78",
   "metadata": {},
   "outputs": [
    {
     "data": {
      "text/plain": [
       "array(['en', 'ur', nan], dtype=object)"
      ]
     },
     "execution_count": 17,
     "metadata": {},
     "output_type": "execute_result"
    }
   ],
   "source": [
    "df[\"Language\"].unique()"
   ]
  },
  {
   "cell_type": "markdown",
   "id": "32240a67-2de2-4fcd-9a2c-b24b8929c9a2",
   "metadata": {},
   "source": [
    "## Advertisement Revenue Cleaning"
   ]
  },
  {
   "cell_type": "code",
   "execution_count": 83,
   "id": "ec21b5f4-660c-4791-9607-ad7fb2d31914",
   "metadata": {},
   "outputs": [],
   "source": [
    "def get_clean_revenue(d):\n",
    "    f = None\n",
    "\n",
    "    try:\n",
    "        f = float(d)\n",
    "        return f\n",
    "    except:\n",
    "        pass\n",
    "\n",
    "    value, value_multiplier = d.split(\" \")\n",
    "\n",
    "    if value_multiplier == \"lakh\": return float(value) * 100_000\n",
    "    elif value_multiplier == \"crore\": return float(value) * 10_000_000\n",
    "    elif value_multiplier == \"million\": return float(value) * 1_000_000\n",
    "    else: print(value_multiplier)"
   ]
  },
  {
   "cell_type": "code",
   "execution_count": 99,
   "id": "8f477daf-1e28-48f7-8724-85382b0cfd94",
   "metadata": {},
   "outputs": [],
   "source": [
    "df[\"Revenue\"] = df[\"Revenue\"].apply(get_clean_revenue)"
   ]
  },
  {
   "cell_type": "code",
   "execution_count": null,
   "id": "aeaf2228-be2a-4b66-95bf-8fac09f78a1e",
   "metadata": {},
   "outputs": [],
   "source": []
  }
 ],
 "metadata": {
  "kernelspec": {
   "display_name": "Python 3 (ipykernel)",
   "language": "python",
   "name": "python3"
  },
  "language_info": {
   "codemirror_mode": {
    "name": "ipython",
    "version": 3
   },
   "file_extension": ".py",
   "mimetype": "text/x-python",
   "name": "python",
   "nbconvert_exporter": "python",
   "pygments_lexer": "ipython3",
   "version": "3.13.7"
  }
 },
 "nbformat": 4,
 "nbformat_minor": 5
}
